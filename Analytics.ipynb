{
 "cells": [
  {
   "cell_type": "markdown",
   "metadata": {},
   "source": [
    "Прежде чем запускать следующее, нужно пройти VK-авторизацию!"
   ]
  },
  {
   "cell_type": "code",
   "execution_count": 3,
   "metadata": {
    "collapsed": false
   },
   "outputs": [
    {
     "data": {
      "application/javascript": [
       "var kernel = IPython.notebook.kernel;\n",
       "var command = \"currentUrl = \" + \"'\" + window.location + \"'\";\n",
       "kernel.execute(command);"
      ],
      "text/plain": [
       "<IPython.core.display.Javascript object>"
      ]
     },
     "metadata": {},
     "output_type": "display_data"
    }
   ],
   "source": [
    "%%javascript\n",
    "var kernel = IPython.notebook.kernel;\n",
    "var command = \"currentUrl = \" + \"'\" + window.location + \"'\";\n",
    "kernel.execute(command);"
   ]
  },
  {
   "cell_type": "code",
   "execution_count": 4,
   "metadata": {
    "collapsed": false
   },
   "outputs": [],
   "source": [
    "from urlparse import urlparse\n",
    "\n",
    "r = urlparse(currentUrl)\n",
    "code = r.query[5:]\n",
    "\n",
    "url = (\"https://oauth.vk.com/access_token\"\n",
    "       \"?client_id=5429181\" \n",
    "       \"&client_secret=uAZqxwa2hgjLa4KLvbTG\"\n",
    "       \"&code=\" + code +\n",
    "       \"&redirect_uri=\"  + r.scheme + \"://\" + r.netloc + r.path)"
   ]
  },
  {
   "cell_type": "code",
   "execution_count": 6,
   "metadata": {
    "collapsed": false
   },
   "outputs": [],
   "source": [
    "import json\n",
    "import urllib2   \n",
    "\n",
    "data = json.load(urllib2.urlopen(url))\n",
    "accessToken = data['access_token']"
   ]
  },
  {
   "cell_type": "markdown",
   "metadata": {
    "collapsed": false
   },
   "source": [
    "# Достаем участников группы"
   ]
  },
  {
   "cell_type": "code",
   "execution_count": 31,
   "metadata": {
    "collapsed": false
   },
   "outputs": [
    {
     "name": "stdout",
     "output_type": "stream",
     "text": [
      "extracted 26 users from 109490789\n",
      "extracted 200 users from 2100831\n",
      "extracted 51 users from 11912933\n",
      "extracted 104 users from 1167943\n",
      "extracted 41 users from 15335079\n",
      "extracted 31 users from 12813079\n",
      "extracted 17 users from 68478644\n",
      "extracted 13 users from 16vzvoduvo\n",
      "extracted 97 users from 59565067\n",
      "extracted 30 users from 61511779\n",
      "extracted 200 users from 1182973\n",
      "extracted 200 users from 1119648\n",
      "extracted 91 users from 21754234\n",
      "extracted 8 users from 14294712\n",
      "extracted 35 users from 7591998\n",
      "extracted 34 users from 8702762\n",
      "extracted 2 users from 23386497\n",
      "extracted 86 users from 1566321\n",
      "extracted 44 users from 55523638\n",
      "sum: 1310\n"
     ]
    }
   ],
   "source": [
    "from urllib import urlencode\n",
    "import time\n",
    "\n",
    "groups = [\"109490789\", \n",
    "          \"2100831\", \n",
    "          \"11912933\", \n",
    "          \"1167943\", \n",
    "          \"15335079\", \n",
    "          \"12813079\", \n",
    "          \"68478644\",\n",
    "          \"16vzvoduvo\",\n",
    "          \"59565067\",\n",
    "          \"61511779\",\n",
    "          \"1182973\",\n",
    "          \"1119648\",\n",
    "          \"21754234\",\n",
    "          \"14294712\",\n",
    "          \"7591998\",\n",
    "          \"8702762\",\n",
    "          \"23386497\",\n",
    "          \"1566321\",\n",
    "          \"55523638\"]\n",
    "\n",
    "users = []\n",
    "\n",
    "for group in groups:\n",
    "    params = {\"group_id\": group, \n",
    "              \"count\": 200, \n",
    "              \"fields\": \"sex,education\",\n",
    "              \"access_token\": accessToken}\n",
    "    params = urlencode(params)\n",
    "\n",
    "    url = \"https://api.vk.com/method/groups.getMembers?\" + params\n",
    "    data = json.load(urllib2.urlopen(url))\n",
    "    data_users = data['response']['users']\n",
    "    \n",
    "    print(\"extracted %d users from %s\" % (len(data_users), group))\n",
    "    users.extend(data_users)\n",
    "    time.sleep(1)\n",
    "    \n",
    "print(\"sum: %d\" % len(users))"
   ]
  },
  {
   "cell_type": "code",
   "execution_count": 34,
   "metadata": {
    "collapsed": false
   },
   "outputs": [
    {
     "data": {
      "text/plain": [
       "<matplotlib.axes._subplots.AxesSubplot at 0x108e1d450>"
      ]
     },
     "execution_count": 34,
     "metadata": {},
     "output_type": "execute_result"
    },
    {
     "data": {
      "image/png": "[encoded data removed]",
      "text/plain": [
       "<matplotlib.figure.Figure at 0x108c3a610>"
      ]
     },
     "metadata": {},
     "output_type": "display_data"
    }
   ],
   "source": [
    "%matplotlib inline\n",
    "\n",
    "import numpy as np\n",
    "import pandas as pd\n",
    "import matplotlib\n",
    "from matplotlib import pyplot as plt\n",
    "\n",
    "from collections import defaultdict\n",
    "\n",
    "res = defaultdict(list)\n",
    "\n",
    "for user in data['response']['users']: \n",
    "    res[user.get('university_name', \"\")].append(user)\n",
    "    \n",
    "df = pd.DataFrame(users)\n",
    "df = df.groupby('sex').size()\n",
    "df.plot()"
   ]
  },
  {
   "cell_type": "code",
   "execution_count": null,
   "metadata": {
    "collapsed": true
   },
   "outputs": [],
   "source": []
  },
  {
   "cell_type": "code",
   "execution_count": null,
   "metadata": {
    "collapsed": true
   },
   "outputs": [],
   "source": []
  }
 ],
 "metadata": {
  "kernelspec": {
   "display_name": "Python 2",
   "language": "python",
   "name": "python2"
  },
  "language_info": {
   "codemirror_mode": {
    "name": "ipython",
    "version": 2
   },
   "file_extension": ".py",
   "mimetype": "text/x-python",
   "name": "python",
   "nbconvert_exporter": "python",
   "pygments_lexer": "ipython2",
   "version": "2.7.11"
  }
 },
 "nbformat": 4,
 "nbformat_minor": 0
}
