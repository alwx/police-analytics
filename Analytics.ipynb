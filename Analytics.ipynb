{
 "cells": [
  {
   "cell_type": "markdown",
   "metadata": {},
   "source": [
    "Прежде чем запускать следующее, нужно пройти VK-авторизацию!"
   ]
  },
  {
   "cell_type": "code",
   "execution_count": 3,
   "metadata": {
    "collapsed": false
   },
   "outputs": [
    {
     "data": {
      "application/javascript": [
       "var kernel = IPython.notebook.kernel;\n",
       "var command = \"currentUrl = \" + \"'\" + window.location + \"'\";\n",
       "kernel.execute(command);"
      ],
      "text/plain": [
       "<IPython.core.display.Javascript object>"
      ]
     },
     "metadata": {},
     "output_type": "display_data"
    }
   ],
   "source": [
    "%%javascript\n",
    "var kernel = IPython.notebook.kernel;\n",
    "var command = \"currentUrl = \" + \"'\" + window.location + \"'\";\n",
    "kernel.execute(command);"
   ]
  },
  {
   "cell_type": "code",
   "execution_count": 4,
   "metadata": {
    "collapsed": false
   },
   "outputs": [],
   "source": [
    "from urlparse import urlparse\n",
    "\n",
    "r = urlparse(currentUrl)\n",
    "code = r.query[5:]\n",
    "\n",
    "url = (\"https://oauth.vk.com/access_token\"\n",
    "       \"?client_id=5429181\" \n",
    "       \"&client_secret=uAZqxwa2hgjLa4KLvbTG\"\n",
    "       \"&code=\" + code +\n",
    "       \"&redirect_uri=\"  + r.scheme + \"://\" + r.netloc + r.path)"
   ]
  },
  {
   "cell_type": "code",
   "execution_count": 6,
   "metadata": {
    "collapsed": false
   },
   "outputs": [],
   "source": [
    "import json\n",
    "import urllib2   \n",
    "\n",
    "data = json.load(urllib2.urlopen(url))\n",
    "accessToken = data['access_token']"
   ]
  },
  {
   "cell_type": "markdown",
   "metadata": {
    "collapsed": false
   },
   "source": [
    "# Достаем участников группы"
   ]
  },
  {
   "cell_type": "code",
   "execution_count": 7,
   "metadata": {
    "collapsed": false
   },
   "outputs": [
    {
     "data": {
      "text/plain": [
       "[{u'first_name': u'Egor', u'last_name': u'Kotov', u'sex': 2, u'uid': 52493},\n",
       " {u'faculty': 0,\n",
       "  u'faculty_name': u'',\n",
       "  u'first_name': u'Mega',\n",
       "  u'graduation': 0,\n",
       "  u'last_name': u'Bydlovich',\n",
       "  u'sex': 2,\n",
       "  u'uid': 378807,\n",
       "  u'university': 0,\n",
       "  u'university_name': u''},\n",
       " {u'first_name': u'Narina',\n",
       "  u'last_name': u'Stepanyants',\n",
       "  u'sex': 1,\n",
       "  u'uid': 545614},\n",
       " {u'faculty': 84503,\n",
       "  u'faculty_name': u'\\u0418\\u043d\\u0444\\u043e\\u0440\\u043c\\u0430\\u0446\\u0438\\u043e\\u043d\\u043d\\u043e-\\u0433\\u0443\\u043c\\u0430\\u043d\\u0438\\u0442\\u0430\\u0440\\u043d\\u044b\\u0439',\n",
       "  u'first_name': u'Stanislav',\n",
       "  u'graduation': 2015,\n",
       "  u'last_name': u'Kozlov',\n",
       "  u'sex': 2,\n",
       "  u'uid': 661576,\n",
       "  u'university': 26,\n",
       "  u'university_name': u'\\u041a\\u0413\\u0423 (\\u0431\\u044b\\u0432\\u0448. \\u041a\\u0413\\u0418) \\u0438\\u043c. \\u041a\\u0438\\u0440\\u0438\\u043b\\u043b\\u0430 \\u0438 \\u041c\\u0435\\u0444\\u043e\\u0434\\u0438\\u044f'},\n",
       " {u'faculty': 771670,\n",
       "  u'faculty_name': u'',\n",
       "  u'first_name': u'Tyomny',\n",
       "  u'graduation': 1965,\n",
       "  u'last_name': u'Inkvizitor',\n",
       "  u'sex': 2,\n",
       "  u'uid': 1391016,\n",
       "  u'university': 0,\n",
       "  u'university_name': u''},\n",
       " {u'faculty': 101,\n",
       "  u'faculty_name': u'\\u0413\\u0435\\u043e\\u0433\\u0440\\u0430\\u0444\\u0438\\u0438\\r\\n',\n",
       "  u'first_name': u'Maxim',\n",
       "  u'graduation': 1997,\n",
       "  u'last_name': u'Udovichenko',\n",
       "  u'sex': 2,\n",
       "  u'uid': 1999611,\n",
       "  u'university': 34,\n",
       "  u'university_name': u'\\u0420\\u0413\\u041f\\u0423 \\u0438\\u043c. \\u0413\\u0435\\u0440\\u0446\\u0435\\u043d\\u0430'},\n",
       " {u'faculty': 324,\n",
       "  u'faculty_name': u'\\u041a\\u043e\\u043c\\u043f\\u044c\\u044e\\u0442\\u0435\\u0440\\u043d\\u044b\\u0445 \\u0442\\u0435\\u0445\\u043d\\u043e\\u043b\\u043e\\u0433\\u0438\\u0439 \\u0438 \\u0438\\u043d\\u0444\\u043e\\u0440\\u043c\\u0430\\u0442\\u0438\\u043a\\u0438 (\\u0424\\u041a\\u0422\\u0418, \\u0424\\u0410\\u0412\\u0422)',\n",
       "  u'first_name': u'Dmitry',\n",
       "  u'graduation': 0,\n",
       "  u'last_name': u'Zastavsky',\n",
       "  u'sex': 2,\n",
       "  u'uid': 2146240,\n",
       "  u'university': 68,\n",
       "  u'university_name': u'\\u0421\\u041f\\u0431\\u0413\\u042d\\u0422\\u0423 (\\u041b\\u042d\\u0422\\u0418)'},\n",
       " {u'faculty': 5,\n",
       "  u'faculty_name': u'\\u0416\\u0443\\u0440\\u043d\\u0430\\u043b\\u0438\\u0441\\u0442\\u0438\\u043a\\u0438 (\\u0412\\u044b\\u0441\\u0448\\u0430\\u044f \\u0448\\u043a\\u043e\\u043b\\u0430 \\u0436\\u0443\\u0440\\u043d\\u0430\\u043b\\u0438\\u0441\\u0442\\u0438\\u043a\\u0438 \\u0438 \\u043c\\u0430\\u0441\\u0441\\u043e\\u0432\\u044b\\u0445 \\u043a\\u043e\\u043c\\u043c\\u0443\\u043d\\u0438\\u043a\\u0430\\u0446\\u0438\\u0439)',\n",
       "  u'first_name': u'Nikita',\n",
       "  u'graduation': 2012,\n",
       "  u'last_name': u'Afonichkin',\n",
       "  u'sex': 2,\n",
       "  u'uid': 6038775,\n",
       "  u'university': 1,\n",
       "  u'university_name': u'\\u0421\\u041f\\u0431\\u0413\\u0423'},\n",
       " {u'first_name': u'Roman',\n",
       "  u'last_name': u'Peregudov',\n",
       "  u'sex': 2,\n",
       "  u'uid': 7212235},\n",
       " {u'first_name': u'Rita',\n",
       "  u'last_name': u'Lesnaya',\n",
       "  u'sex': 1,\n",
       "  u'uid': 8885745},\n",
       " {u'first_name': u'Alina',\n",
       "  u'last_name': u'Lysyuk',\n",
       "  u'sex': 1,\n",
       "  u'uid': 14165447},\n",
       " {u'first_name': u'Maria',\n",
       "  u'last_name': u'Reznichenko',\n",
       "  u'sex': 1,\n",
       "  u'uid': 22203244},\n",
       " {u'first_name': u'Nikolay',\n",
       "  u'last_name': u'Bychenya',\n",
       "  u'sex': 2,\n",
       "  u'uid': 22733753},\n",
       " {u'first_name': u'Dima',\n",
       "  u'last_name': u'Frolov',\n",
       "  u'sex': 2,\n",
       "  u'uid': 34675538},\n",
       " {u'first_name': u'Maxim',\n",
       "  u'last_name': u'Kovalevsky',\n",
       "  u'sex': 2,\n",
       "  u'uid': 36191198},\n",
       " {u'first_name': u'Anatoly',\n",
       "  u'last_name': u'Svyatogorsky',\n",
       "  u'sex': 2,\n",
       "  u'uid': 69513065},\n",
       " {u'first_name': u'Margarita',\n",
       "  u'last_name': u'Grudina',\n",
       "  u'sex': 1,\n",
       "  u'uid': 72260436},\n",
       " {u'first_name': u'Svetlana',\n",
       "  u'last_name': u'Mezhenskaya',\n",
       "  u'sex': 1,\n",
       "  u'uid': 85447656},\n",
       " {u'first_name': u'Alexander',\n",
       "  u'last_name': u'Deminsky',\n",
       "  u'sex': 2,\n",
       "  u'uid': 93742211},\n",
       " {u'first_name': u'Elena',\n",
       "  u'last_name': u'Gritskevich',\n",
       "  u'sex': 1,\n",
       "  u'uid': 150258054},\n",
       " {u'first_name': u'Valentina',\n",
       "  u'last_name': u'Udaltsova',\n",
       "  u'sex': 1,\n",
       "  u'uid': 151451608},\n",
       " {u'deactivated': u'deleted',\n",
       "  u'first_name': u'Denis',\n",
       "  u'last_name': u'Pankov',\n",
       "  u'sex': 2,\n",
       "  u'uid': 229078041},\n",
       " {u'faculty': 3230,\n",
       "  u'faculty_name': u'\\u042e\\u0440\\u0438\\u0434\\u0438\\u0447\\u0435\\u0441\\u043a\\u0438\\u0439',\n",
       "  u'first_name': u'Turan',\n",
       "  u'graduation': 2018,\n",
       "  u'last_name': u'Guseynov',\n",
       "  u'sex': 2,\n",
       "  u'uid': 236213391,\n",
       "  u'university': 381,\n",
       "  u'university_name': u'\\u0410\\u043b\\u0442\\u0413\\u0423'},\n",
       " {u'faculty': 37600,\n",
       "  u'faculty_name': u'\\u041c\\u0435\\u043d\\u0435\\u0434\\u0436\\u043c\\u0435\\u043d\\u0442\\u0430 \\u0438 \\u043c\\u0430\\u0440\\u043a\\u0435\\u0442\\u0438\\u043d\\u0433\\u0430',\n",
       "  u'first_name': u'Ekaterina',\n",
       "  u'graduation': 2013,\n",
       "  u'last_name': u'Yusupova',\n",
       "  u'sex': 1,\n",
       "  u'uid': 260029029,\n",
       "  u'university': 9675,\n",
       "  u'university_name': u'\\u042e\\u0423\\u041f\\u0418'},\n",
       " {u'first_name': u'Laki',\n",
       "  u'last_name': u'Luchano',\n",
       "  u'sex': 2,\n",
       "  u'uid': 260593232},\n",
       " {u'faculty': 0,\n",
       "  u'faculty_name': u'',\n",
       "  u'first_name': u'Gibdd-Petrogradskogo-Rayona',\n",
       "  u'graduation': 0,\n",
       "  u'last_name': u'G-Sankt-Peterburg',\n",
       "  u'sex': 2,\n",
       "  u'uid': 338659768,\n",
       "  u'university': 0,\n",
       "  u'university_name': u''}]"
      ]
     },
     "execution_count": 7,
     "metadata": {},
     "output_type": "execute_result"
    }
   ],
   "source": [
    "from urllib import urlencode  \n",
    "\n",
    "params = {\"group_id\": \"109490789\", \n",
    "          \"count\": 1000, \n",
    "          \"fields\": \"sex,education\",\n",
    "          \"access_token\": accessToken}\n",
    "params = urlencode(params)\n",
    "\n",
    "url = \"https://api.vk.com/method/groups.getMembers?\" + params\n",
    "data = json.load(urllib2.urlopen(url))\n",
    "\n",
    "data['response']['users']"
   ]
  },
  {
   "cell_type": "code",
   "execution_count": 19,
   "metadata": {
    "collapsed": false
   },
   "outputs": [
    {
     "data": {
      "text/plain": [
       "university_name\n",
       "                                         3\n",
       "АлтГУ                                    1\n",
       "КГУ (бывш. КГИ) им. Кирилла и Мефодия    1\n",
       "РГПУ им. Герцена                         1\n",
       "СПбГУ                                    1\n",
       "СПбГЭТУ (ЛЭТИ)                           1\n",
       "ЮУПИ                                     1\n",
       "dtype: int64"
      ]
     },
     "execution_count": 19,
     "metadata": {},
     "output_type": "execute_result"
    }
   ],
   "source": [
    "%matplotlib inline\n",
    "\n",
    "import numpy as np\n",
    "import pandas as pd\n",
    "import matplotlib\n",
    "from matplotlib import pyplot as plt\n",
    "\n",
    "from collections import defaultdict\n",
    "\n",
    "res = defaultdict(list)\n",
    "\n",
    "for user in data['response']['users']: \n",
    "    res[user.get('university_name', \"\")].append(user)\n",
    "    \n",
    "df = pd.DataFrame(data['response']['users'])\n",
    "df = df.groupby('university_name').size()\n",
    "df"
   ]
  },
  {
   "cell_type": "code",
   "execution_count": null,
   "metadata": {
    "collapsed": true
   },
   "outputs": [],
   "source": []
  },
  {
   "cell_type": "code",
   "execution_count": null,
   "metadata": {
    "collapsed": true
   },
   "outputs": [],
   "source": []
  }
 ],
 "metadata": {
  "kernelspec": {
   "display_name": "Python 2",
   "language": "python",
   "name": "python2"
  },
  "language_info": {
   "codemirror_mode": {
    "name": "ipython",
    "version": 2
   },
   "file_extension": ".py",
   "mimetype": "text/x-python",
   "name": "python",
   "nbconvert_exporter": "python",
   "pygments_lexer": "ipython2",
   "version": "2.7.11"
  }
 },
 "nbformat": 4,
 "nbformat_minor": 0
}
