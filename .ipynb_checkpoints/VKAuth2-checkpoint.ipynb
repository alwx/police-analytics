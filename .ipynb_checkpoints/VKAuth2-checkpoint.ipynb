{
 "cells": [
  {
   "cell_type": "markdown",
   "metadata": {},
   "source": [
    "Прежде чем запускать следующее, нужно пройти VK-авторизацию!"
   ]
  },
  {
   "cell_type": "code",
   "execution_count": 3,
   "metadata": {
    "collapsed": false
   },
   "outputs": [
    {
     "data": {
      "application/javascript": [
       "var kernel = IPython.notebook.kernel;\n",
       "var command = \"currentUrl = \" + \"'\" + window.location + \"'\";\n",
       "kernel.execute(command);"
      ],
      "text/plain": [
       "<IPython.core.display.Javascript object>"
      ]
     },
     "metadata": {},
     "output_type": "display_data"
    }
   ],
   "source": [
    "%%javascript\n",
    "var kernel = IPython.notebook.kernel;\n",
    "var command = \"currentUrl = \" + \"'\" + window.location + \"'\";\n",
    "kernel.execute(command);"
   ]
  },
  {
   "cell_type": "code",
   "execution_count": 4,
   "metadata": {
    "collapsed": false
   },
   "outputs": [],
   "source": [
    "from urlparse import urlparse\n",
    "\n",
    "r = urlparse(currentUrl)\n",
    "code = r.query[5:]\n",
    "\n",
    "url = (\"https://oauth.vk.com/access_token\"\n",
    "       \"?client_id=5429181\" \n",
    "       \"&client_secret=uAZqxwa2hgjLa4KLvbTG\"\n",
    "       \"&code=\" + code +\n",
    "       \"&redirect_uri=\"  + r.scheme + \"://\" + r.netloc + r.path)"
   ]
  },
  {
   "cell_type": "code",
   "execution_count": 6,
   "metadata": {
    "collapsed": false
   },
   "outputs": [],
   "source": [
    "import json\n",
    "import urllib2   \n",
    "\n",
    "data = json.load(urllib2.urlopen(url))\n",
    "accessToken = data['access_token']\n",
    "\n",
    "f = open('datasets/token','w')\n",
    "f.write(accessToken)\n",
    "f.close()"
   ]
  }
 ],
 "metadata": {
  "kernelspec": {
   "display_name": "Python 2",
   "language": "python",
   "name": "python2"
  },
  "language_info": {
   "codemirror_mode": {
    "name": "ipython",
    "version": 2
   },
   "file_extension": ".py",
   "mimetype": "text/x-python",
   "name": "python",
   "nbconvert_exporter": "python",
   "pygments_lexer": "ipython2",
   "version": "2.7.11"
  }
 },
 "nbformat": 4,
 "nbformat_minor": 0
}
