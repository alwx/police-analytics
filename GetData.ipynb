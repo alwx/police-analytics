{
 "cells": [
  {
   "cell_type": "code",
   "execution_count": 1,
   "metadata": {
    "collapsed": true
   },
   "outputs": [],
   "source": [
    "import numpy as np\n",
    "import pandas as pd\n",
    "import matplotlib\n",
    "from collections import defaultdict\n",
    "from matplotlib import pyplot as plt\n",
    "from urllib import urlencode\n",
    "\n",
    "import urllib2\n",
    "import time\n",
    "import json\n",
    "import operator\n",
    "import urllib2 "
   ]
  },
  {
   "cell_type": "code",
   "execution_count": 2,
   "metadata": {
    "collapsed": true
   },
   "outputs": [],
   "source": [
    "file = open('datasets/token', 'r')\n",
    "accessToken = file.read()"
   ]
  },
  {
   "cell_type": "markdown",
   "metadata": {},
   "source": [
    "# Достаем полицейских из закрытых групп"
   ]
  },
  {
   "cell_type": "code",
   "execution_count": 4,
   "metadata": {
    "collapsed": false
   },
   "outputs": [
    {
     "ename": "URLError",
     "evalue": "<urlopen error EOF occurred in violation of protocol (_ssl.c:590)>",
     "output_type": "error",
     "traceback": [
      "\u001b[0;31m---------------------------------------------------------------------------\u001b[0m",
      "\u001b[0;31mURLError\u001b[0m                                  Traceback (most recent call last)",
      "\u001b[0;32m<ipython-input-4-ed1d3abb9057>\u001b[0m in \u001b[0;36m<module>\u001b[0;34m()\u001b[0m\n\u001b[1;32m     29\u001b[0m \u001b[0;34m\u001b[0m\u001b[0m\n\u001b[1;32m     30\u001b[0m     \u001b[0murl\u001b[0m \u001b[0;34m=\u001b[0m \u001b[0;34m\"https://api.vk.com/method/groups.getMembers?\"\u001b[0m \u001b[0;34m+\u001b[0m \u001b[0mparams\u001b[0m\u001b[0;34m\u001b[0m\u001b[0m\n\u001b[0;32m---> 31\u001b[0;31m     \u001b[0mdata\u001b[0m \u001b[0;34m=\u001b[0m \u001b[0mjson\u001b[0m\u001b[0;34m.\u001b[0m\u001b[0mload\u001b[0m\u001b[0;34m(\u001b[0m\u001b[0murllib2\u001b[0m\u001b[0;34m.\u001b[0m\u001b[0murlopen\u001b[0m\u001b[0;34m(\u001b[0m\u001b[0murl\u001b[0m\u001b[0;34m)\u001b[0m\u001b[0;34m)\u001b[0m\u001b[0;34m\u001b[0m\u001b[0m\n\u001b[0m\u001b[1;32m     32\u001b[0m     \u001b[0mdata_users\u001b[0m \u001b[0;34m=\u001b[0m \u001b[0mdata\u001b[0m\u001b[0;34m[\u001b[0m\u001b[0;34m'response'\u001b[0m\u001b[0;34m]\u001b[0m\u001b[0;34m[\u001b[0m\u001b[0;34m'users'\u001b[0m\u001b[0;34m]\u001b[0m\u001b[0;34m\u001b[0m\u001b[0m\n\u001b[1;32m     33\u001b[0m \u001b[0;34m\u001b[0m\u001b[0m\n",
      "\u001b[0;32m/usr/local/Cellar/python/2.7.11/Frameworks/Python.framework/Versions/2.7/lib/python2.7/urllib2.pyc\u001b[0m in \u001b[0;36murlopen\u001b[0;34m(url, data, timeout, cafile, capath, cadefault, context)\u001b[0m\n\u001b[1;32m    152\u001b[0m     \u001b[0;32melse\u001b[0m\u001b[0;34m:\u001b[0m\u001b[0;34m\u001b[0m\u001b[0m\n\u001b[1;32m    153\u001b[0m         \u001b[0mopener\u001b[0m \u001b[0;34m=\u001b[0m \u001b[0m_opener\u001b[0m\u001b[0;34m\u001b[0m\u001b[0m\n\u001b[0;32m--> 154\u001b[0;31m     \u001b[0;32mreturn\u001b[0m \u001b[0mopener\u001b[0m\u001b[0;34m.\u001b[0m\u001b[0mopen\u001b[0m\u001b[0;34m(\u001b[0m\u001b[0murl\u001b[0m\u001b[0;34m,\u001b[0m \u001b[0mdata\u001b[0m\u001b[0;34m,\u001b[0m \u001b[0mtimeout\u001b[0m\u001b[0;34m)\u001b[0m\u001b[0;34m\u001b[0m\u001b[0m\n\u001b[0m\u001b[1;32m    155\u001b[0m \u001b[0;34m\u001b[0m\u001b[0m\n\u001b[1;32m    156\u001b[0m \u001b[0;32mdef\u001b[0m \u001b[0minstall_opener\u001b[0m\u001b[0;34m(\u001b[0m\u001b[0mopener\u001b[0m\u001b[0;34m)\u001b[0m\u001b[0;34m:\u001b[0m\u001b[0;34m\u001b[0m\u001b[0m\n",
      "\u001b[0;32m/usr/local/Cellar/python/2.7.11/Frameworks/Python.framework/Versions/2.7/lib/python2.7/urllib2.pyc\u001b[0m in \u001b[0;36mopen\u001b[0;34m(self, fullurl, data, timeout)\u001b[0m\n\u001b[1;32m    429\u001b[0m             \u001b[0mreq\u001b[0m \u001b[0;34m=\u001b[0m \u001b[0mmeth\u001b[0m\u001b[0;34m(\u001b[0m\u001b[0mreq\u001b[0m\u001b[0;34m)\u001b[0m\u001b[0;34m\u001b[0m\u001b[0m\n\u001b[1;32m    430\u001b[0m \u001b[0;34m\u001b[0m\u001b[0m\n\u001b[0;32m--> 431\u001b[0;31m         \u001b[0mresponse\u001b[0m \u001b[0;34m=\u001b[0m \u001b[0mself\u001b[0m\u001b[0;34m.\u001b[0m\u001b[0m_open\u001b[0m\u001b[0;34m(\u001b[0m\u001b[0mreq\u001b[0m\u001b[0;34m,\u001b[0m \u001b[0mdata\u001b[0m\u001b[0;34m)\u001b[0m\u001b[0;34m\u001b[0m\u001b[0m\n\u001b[0m\u001b[1;32m    432\u001b[0m \u001b[0;34m\u001b[0m\u001b[0m\n\u001b[1;32m    433\u001b[0m         \u001b[0;31m# post-process response\u001b[0m\u001b[0;34m\u001b[0m\u001b[0;34m\u001b[0m\u001b[0m\n",
      "\u001b[0;32m/usr/local/Cellar/python/2.7.11/Frameworks/Python.framework/Versions/2.7/lib/python2.7/urllib2.pyc\u001b[0m in \u001b[0;36m_open\u001b[0;34m(self, req, data)\u001b[0m\n\u001b[1;32m    447\u001b[0m         \u001b[0mprotocol\u001b[0m \u001b[0;34m=\u001b[0m \u001b[0mreq\u001b[0m\u001b[0;34m.\u001b[0m\u001b[0mget_type\u001b[0m\u001b[0;34m(\u001b[0m\u001b[0;34m)\u001b[0m\u001b[0;34m\u001b[0m\u001b[0m\n\u001b[1;32m    448\u001b[0m         result = self._call_chain(self.handle_open, protocol, protocol +\n\u001b[0;32m--> 449\u001b[0;31m                                   '_open', req)\n\u001b[0m\u001b[1;32m    450\u001b[0m         \u001b[0;32mif\u001b[0m \u001b[0mresult\u001b[0m\u001b[0;34m:\u001b[0m\u001b[0;34m\u001b[0m\u001b[0m\n\u001b[1;32m    451\u001b[0m             \u001b[0;32mreturn\u001b[0m \u001b[0mresult\u001b[0m\u001b[0;34m\u001b[0m\u001b[0m\n",
      "\u001b[0;32m/usr/local/Cellar/python/2.7.11/Frameworks/Python.framework/Versions/2.7/lib/python2.7/urllib2.pyc\u001b[0m in \u001b[0;36m_call_chain\u001b[0;34m(self, chain, kind, meth_name, *args)\u001b[0m\n\u001b[1;32m    407\u001b[0m             \u001b[0mfunc\u001b[0m \u001b[0;34m=\u001b[0m \u001b[0mgetattr\u001b[0m\u001b[0;34m(\u001b[0m\u001b[0mhandler\u001b[0m\u001b[0;34m,\u001b[0m \u001b[0mmeth_name\u001b[0m\u001b[0;34m)\u001b[0m\u001b[0;34m\u001b[0m\u001b[0m\n\u001b[1;32m    408\u001b[0m \u001b[0;34m\u001b[0m\u001b[0m\n\u001b[0;32m--> 409\u001b[0;31m             \u001b[0mresult\u001b[0m \u001b[0;34m=\u001b[0m \u001b[0mfunc\u001b[0m\u001b[0;34m(\u001b[0m\u001b[0;34m*\u001b[0m\u001b[0margs\u001b[0m\u001b[0;34m)\u001b[0m\u001b[0;34m\u001b[0m\u001b[0m\n\u001b[0m\u001b[1;32m    410\u001b[0m             \u001b[0;32mif\u001b[0m \u001b[0mresult\u001b[0m \u001b[0;32mis\u001b[0m \u001b[0;32mnot\u001b[0m \u001b[0mNone\u001b[0m\u001b[0;34m:\u001b[0m\u001b[0;34m\u001b[0m\u001b[0m\n\u001b[1;32m    411\u001b[0m                 \u001b[0;32mreturn\u001b[0m \u001b[0mresult\u001b[0m\u001b[0;34m\u001b[0m\u001b[0m\n",
      "\u001b[0;32m/usr/local/Cellar/python/2.7.11/Frameworks/Python.framework/Versions/2.7/lib/python2.7/urllib2.pyc\u001b[0m in \u001b[0;36mhttps_open\u001b[0;34m(self, req)\u001b[0m\n\u001b[1;32m   1238\u001b[0m         \u001b[0;32mdef\u001b[0m \u001b[0mhttps_open\u001b[0m\u001b[0;34m(\u001b[0m\u001b[0mself\u001b[0m\u001b[0;34m,\u001b[0m \u001b[0mreq\u001b[0m\u001b[0;34m)\u001b[0m\u001b[0;34m:\u001b[0m\u001b[0;34m\u001b[0m\u001b[0m\n\u001b[1;32m   1239\u001b[0m             return self.do_open(httplib.HTTPSConnection, req,\n\u001b[0;32m-> 1240\u001b[0;31m                 context=self._context)\n\u001b[0m\u001b[1;32m   1241\u001b[0m \u001b[0;34m\u001b[0m\u001b[0m\n\u001b[1;32m   1242\u001b[0m         \u001b[0mhttps_request\u001b[0m \u001b[0;34m=\u001b[0m \u001b[0mAbstractHTTPHandler\u001b[0m\u001b[0;34m.\u001b[0m\u001b[0mdo_request_\u001b[0m\u001b[0;34m\u001b[0m\u001b[0m\n",
      "\u001b[0;32m/usr/local/Cellar/python/2.7.11/Frameworks/Python.framework/Versions/2.7/lib/python2.7/urllib2.pyc\u001b[0m in \u001b[0;36mdo_open\u001b[0;34m(self, http_class, req, **http_conn_args)\u001b[0m\n\u001b[1;32m   1195\u001b[0m         \u001b[0;32mexcept\u001b[0m \u001b[0msocket\u001b[0m\u001b[0;34m.\u001b[0m\u001b[0merror\u001b[0m\u001b[0;34m,\u001b[0m \u001b[0merr\u001b[0m\u001b[0;34m:\u001b[0m \u001b[0;31m# XXX what error?\u001b[0m\u001b[0;34m\u001b[0m\u001b[0m\n\u001b[1;32m   1196\u001b[0m             \u001b[0mh\u001b[0m\u001b[0;34m.\u001b[0m\u001b[0mclose\u001b[0m\u001b[0;34m(\u001b[0m\u001b[0;34m)\u001b[0m\u001b[0;34m\u001b[0m\u001b[0m\n\u001b[0;32m-> 1197\u001b[0;31m             \u001b[0;32mraise\u001b[0m \u001b[0mURLError\u001b[0m\u001b[0;34m(\u001b[0m\u001b[0merr\u001b[0m\u001b[0;34m)\u001b[0m\u001b[0;34m\u001b[0m\u001b[0m\n\u001b[0m\u001b[1;32m   1198\u001b[0m         \u001b[0;32melse\u001b[0m\u001b[0;34m:\u001b[0m\u001b[0;34m\u001b[0m\u001b[0m\n\u001b[1;32m   1199\u001b[0m             \u001b[0;32mtry\u001b[0m\u001b[0;34m:\u001b[0m\u001b[0;34m\u001b[0m\u001b[0m\n",
      "\u001b[0;31mURLError\u001b[0m: <urlopen error EOF occurred in violation of protocol (_ssl.c:590)>"
     ]
    }
   ],
   "source": [
    "groups = [\"109490789\", \n",
    "          \"2100831\", \n",
    "          \"11912933\", \n",
    "          \"1167943\", \n",
    "          \"15335079\", \n",
    "          \"12813079\", \n",
    "          \"68478644\",\n",
    "          \"16vzvoduvo\",\n",
    "          \"59565067\",\n",
    "          \"61511779\",\n",
    "          \"1182973\",\n",
    "          \"1119648\",\n",
    "          \"21754234\",\n",
    "          \"14294712\",\n",
    "          \"7591998\",\n",
    "          \"8702762\",\n",
    "          \"23386497\",\n",
    "          \"1566321\",\n",
    "          \"55523638\"]\n",
    "\n",
    "users = []\n",
    "\n",
    "for group in groups:\n",
    "    params = {\"group_id\": group, \n",
    "              \"count\": 500, \n",
    "              \"fields\": \"sex,education,universities,schools\",\n",
    "              \"access_token\": accessToken}\n",
    "    params = urlencode(params)\n",
    "\n",
    "    url = \"https://api.vk.com/method/groups.getMembers?\" + params\n",
    "    data = json.load(urllib2.urlopen(url))\n",
    "    data_users = data['response']['users']\n",
    "    \n",
    "    print(\"extracted %d users from %s\" % (len(data_users), group))\n",
    "    users.extend(data_users)\n",
    "    time.sleep(0.5)\n",
    "    \n",
    "print(\"sum: %d\" % len(users))\n",
    "\n",
    "f = open('datasets/police/users.json','w')\n",
    "f.write(json.dumps(users))\n",
    "f.close()"
   ]
  },
  {
   "cell_type": "markdown",
   "metadata": {},
   "source": [
    "# Достаем случайных людей из Петербурга"
   ]
  },
  {
   "cell_type": "code",
   "execution_count": null,
   "metadata": {
    "collapsed": true
   },
   "outputs": [],
   "source": [
    "people = []\n",
    "\n",
    "while len(people) < 2500:\n",
    "    random_ids = []\n",
    "    for i in range(0, 100):\n",
    "        random_ids.append(random.randint(1, 90000000))\n",
    "\n",
    "    user_ids = \",\".join(str(x) for x in random_ids)\n",
    "    params = {\"user_ids\": user_ids, \n",
    "              \"fields\": \"sex,education,universities,schools,city\", \n",
    "              \"access_token\": accessToken}\n",
    "    params = urlencode(params)\n",
    "\n",
    "    url = \"https://api.vk.com/method/users.get?\" + params\n",
    "    data = json.load(urllib2.urlopen(url))\n",
    "   \n",
    "    fetched_people = data.get('response', [])\n",
    "    fetched_people = filter(lambda x: x.get('deactivated', '') == '', fetched_people)\n",
    "    fetched_people = filter(lambda x: x.get('city', 0) == 2, fetched_people)\n",
    "    \n",
    "    print(\"extracted %d users\" % len(fetched_people))\n",
    "    people.extend(fetched_people)\n",
    "    time.sleep(0.25)\n",
    "    \n",
    "f = open('datasets/people/users.json','w')\n",
    "f.write(json.dumps(people))\n",
    "f.close()"
   ]
  },
  {
   "cell_type": "markdown",
   "metadata": {},
   "source": [
    "# Достаем группы"
   ]
  },
  {
   "cell_type": "code",
   "execution_count": 5,
   "metadata": {
    "collapsed": true
   },
   "outputs": [],
   "source": [
    "def get_groups(users_file, save_to):\n",
    "    with open(users_file) as data_file:    \n",
    "        users = json.load(data_file)\n",
    "\n",
    "    groups = {}\n",
    "\n",
    "    print(\"processing %d users\" % len(users))\n",
    "    for i in range(0, len(users)):\n",
    "        params = {\"user_id\": users[i]['uid'], \n",
    "                  \"extended\": 0, \n",
    "                  \"access_token\": accessToken}\n",
    "        params = urlencode(params)\n",
    "\n",
    "        url = \"https://api.vk.com/method/groups.get?\" + params\n",
    "        data = json.load(urllib2.urlopen(url))\n",
    "\n",
    "        if data.get('response', ''):\n",
    "            user_groups = data['response']\n",
    "            for user_group in user_groups:\n",
    "                groups[user_group] = groups.get(user_group, 0) + 1\n",
    "\n",
    "            print \"%d\" % (i + 1),\n",
    "        time.sleep(0.5)\n",
    "\n",
    "    f = open(save_to,'w')\n",
    "    f.write(json.dumps(groups))\n",
    "    f.close()"
   ]
  },
  {
   "cell_type": "code",
   "execution_count": null,
   "metadata": {
    "collapsed": true
   },
   "outputs": [],
   "source": [
    "get_groups('datasets/police/users.json', 'datasets/police/groups_ids.json')"
   ]
  },
  {
   "cell_type": "code",
   "execution_count": null,
   "metadata": {
    "collapsed": false
   },
   "outputs": [
    {
     "name": "stdout",
     "output_type": "stream",
     "text": [
      "processing 2503 users\n",
      "1 5 7 9 10 13 14 18 20 21 22 23 24 25 28 33 37 38 41 42 43 44 46 48 49 50 51 54 56 57 58 59 60 65 68 70 71 72 73 76 77 80 82 83 85 86 90 91 94 95 97 98 99 100 101 105 106 107 109 110 111 112 113 114 115 116 119 120 121 122 123 124 125 126 128 130 132 133 134 136 137 138 139 141 143 145 147 148 149 150 151 152 153 155 156 157 158 160 162 164 165 166 167 168 171 173 176 178 179 180 184 185 186 188 189 190 191 193 194 196 198 200 201 203 205 206 208 209 210 213 214 216 217 221 222 225 226 228 230 233 234 235 236 239 240 241 242 244 245 246 252 254 255 257 258 259 260 261 262 263 266 267 268 269 270 271 272 273 275 276 277 279 281 283 284 285 286 289 290 291 293 294 295 296 298 300 302 303 304 306 307"
     ]
    }
   ],
   "source": [
    "get_groups('datasets/people/users.json', 'datasets/people/groups_ids.json')"
   ]
  },
  {
   "cell_type": "markdown",
   "metadata": {},
   "source": [
    "# Достаем названия групп"
   ]
  },
  {
   "cell_type": "code",
   "execution_count": null,
   "metadata": {
    "collapsed": true
   },
   "outputs": [],
   "source": [
    "def get_group_names(group_ids_file, save_to):\n",
    "    with open('datasets/policeGroups/groups_ids.json') as data_file:    \n",
    "        groups = json.load(data_file)\n",
    "\n",
    "    sorted_groups = sorted(groups.items(), key=operator.itemgetter(1))\n",
    "    sorted_groups.reverse()\n",
    "\n",
    "    # ids of first 100 groups as string\n",
    "    group_ids = \",\".join(map(lambda x: x[0], sorted_groups[:100]))\n",
    "    params = {\"group_ids\": group_ids}\n",
    "    params = urlencode(params)\n",
    "    url = \"https://api.vk.com/method/groups.getById?\" + params\n",
    "    data = json.load(urllib2.urlopen(url))\n",
    "\n",
    "    # function to \"attach\" people count to groups\n",
    "    def add_people_count(group_info):\n",
    "        group_info['people_count'] = groups.get(str(group_info['gid']), 0)\n",
    "        return group_info\n",
    "\n",
    "    if data.get('response', ''):\n",
    "        groups_info = data['response']\n",
    "        groups_info = map(add_people_count, groups_info)\n",
    "\n",
    "        f = open('datasets/policeGroups/groups.json','w')\n",
    "        f.write(json.dumps(groups_info))\n",
    "        f.close()"
   ]
  },
  {
   "cell_type": "code",
   "execution_count": null,
   "metadata": {
    "collapsed": true
   },
   "outputs": [],
   "source": [
    "get_group_names('datasets/police/groups_ids.json', 'datasets/police/groups.json')\n",
    "get_group_names('datasets/people/groups_ids.json', 'datasets/people/groups.json')"
   ]
  }
 ],
 "metadata": {
  "kernelspec": {
   "display_name": "Python 2",
   "language": "python",
   "name": "python2"
  },
  "language_info": {
   "codemirror_mode": {
    "name": "ipython",
    "version": 2
   },
   "file_extension": ".py",
   "mimetype": "text/x-python",
   "name": "python",
   "nbconvert_exporter": "python",
   "pygments_lexer": "ipython2",
   "version": "2.7.11"
  }
 },
 "nbformat": 4,
 "nbformat_minor": 0
}
