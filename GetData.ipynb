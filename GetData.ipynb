{
 "cells": [
  {
   "cell_type": "code",
   "execution_count": 1,
   "metadata": {
    "collapsed": true
   },
   "outputs": [],
   "source": [
    "import numpy as np\n",
    "import pandas as pd\n",
    "import matplotlib\n",
    "from collections import defaultdict\n",
    "from matplotlib import pyplot as plt\n",
    "from urllib import urlencode\n",
    "\n",
    "import urllib2\n",
    "import time\n",
    "import json\n",
    "import operator\n",
    "import urllib2 "
   ]
  },
  {
   "cell_type": "code",
   "execution_count": 2,
   "metadata": {
    "collapsed": true
   },
   "outputs": [],
   "source": [
    "file = open('datasets/token', 'r')\n",
    "accessToken = file.read()"
   ]
  },
  {
   "cell_type": "markdown",
   "metadata": {},
   "source": [
    "# Достаем полицейских из закрытых групп"
   ]
  },
  {
   "cell_type": "code",
   "execution_count": 4,
   "metadata": {
    "collapsed": false
   },
   "outputs": [
    {
     "ename": "URLError",
     "evalue": "<urlopen error EOF occurred in violation of protocol (_ssl.c:590)>",
     "output_type": "error",
     "traceback": [
      "\u001b[0;31m---------------------------------------------------------------------------\u001b[0m",
      "\u001b[0;31mURLError\u001b[0m                                  Traceback (most recent call last)",
      "\u001b[0;32m<ipython-input-4-ed1d3abb9057>\u001b[0m in \u001b[0;36m<module>\u001b[0;34m()\u001b[0m\n\u001b[1;32m     29\u001b[0m \u001b[0;34m\u001b[0m\u001b[0m\n\u001b[1;32m     30\u001b[0m     \u001b[0murl\u001b[0m \u001b[0;34m=\u001b[0m \u001b[0;34m\"https://api.vk.com/method/groups.getMembers?\"\u001b[0m \u001b[0;34m+\u001b[0m \u001b[0mparams\u001b[0m\u001b[0;34m\u001b[0m\u001b[0m\n\u001b[0;32m---> 31\u001b[0;31m     \u001b[0mdata\u001b[0m \u001b[0;34m=\u001b[0m \u001b[0mjson\u001b[0m\u001b[0;34m.\u001b[0m\u001b[0mload\u001b[0m\u001b[0;34m(\u001b[0m\u001b[0murllib2\u001b[0m\u001b[0;34m.\u001b[0m\u001b[0murlopen\u001b[0m\u001b[0;34m(\u001b[0m\u001b[0murl\u001b[0m\u001b[0;34m)\u001b[0m\u001b[0;34m)\u001b[0m\u001b[0;34m\u001b[0m\u001b[0m\n\u001b[0m\u001b[1;32m     32\u001b[0m     \u001b[0mdata_users\u001b[0m \u001b[0;34m=\u001b[0m \u001b[0mdata\u001b[0m\u001b[0;34m[\u001b[0m\u001b[0;34m'response'\u001b[0m\u001b[0;34m]\u001b[0m\u001b[0;34m[\u001b[0m\u001b[0;34m'users'\u001b[0m\u001b[0;34m]\u001b[0m\u001b[0;34m\u001b[0m\u001b[0m\n\u001b[1;32m     33\u001b[0m \u001b[0;34m\u001b[0m\u001b[0m\n",
      "\u001b[0;32m/usr/local/Cellar/python/2.7.11/Frameworks/Python.framework/Versions/2.7/lib/python2.7/urllib2.pyc\u001b[0m in \u001b[0;36murlopen\u001b[0;34m(url, data, timeout, cafile, capath, cadefault, context)\u001b[0m\n\u001b[1;32m    152\u001b[0m     \u001b[0;32melse\u001b[0m\u001b[0;34m:\u001b[0m\u001b[0;34m\u001b[0m\u001b[0m\n\u001b[1;32m    153\u001b[0m         \u001b[0mopener\u001b[0m \u001b[0;34m=\u001b[0m \u001b[0m_opener\u001b[0m\u001b[0;34m\u001b[0m\u001b[0m\n\u001b[0;32m--> 154\u001b[0;31m     \u001b[0;32mreturn\u001b[0m \u001b[0mopener\u001b[0m\u001b[0;34m.\u001b[0m\u001b[0mopen\u001b[0m\u001b[0;34m(\u001b[0m\u001b[0murl\u001b[0m\u001b[0;34m,\u001b[0m \u001b[0mdata\u001b[0m\u001b[0;34m,\u001b[0m \u001b[0mtimeout\u001b[0m\u001b[0;34m)\u001b[0m\u001b[0;34m\u001b[0m\u001b[0m\n\u001b[0m\u001b[1;32m    155\u001b[0m \u001b[0;34m\u001b[0m\u001b[0m\n\u001b[1;32m    156\u001b[0m \u001b[0;32mdef\u001b[0m \u001b[0minstall_opener\u001b[0m\u001b[0;34m(\u001b[0m\u001b[0mopener\u001b[0m\u001b[0;34m)\u001b[0m\u001b[0;34m:\u001b[0m\u001b[0;34m\u001b[0m\u001b[0m\n",
      "\u001b[0;32m/usr/local/Cellar/python/2.7.11/Frameworks/Python.framework/Versions/2.7/lib/python2.7/urllib2.pyc\u001b[0m in \u001b[0;36mopen\u001b[0;34m(self, fullurl, data, timeout)\u001b[0m\n\u001b[1;32m    429\u001b[0m             \u001b[0mreq\u001b[0m \u001b[0;34m=\u001b[0m \u001b[0mmeth\u001b[0m\u001b[0;34m(\u001b[0m\u001b[0mreq\u001b[0m\u001b[0;34m)\u001b[0m\u001b[0;34m\u001b[0m\u001b[0m\n\u001b[1;32m    430\u001b[0m \u001b[0;34m\u001b[0m\u001b[0m\n\u001b[0;32m--> 431\u001b[0;31m         \u001b[0mresponse\u001b[0m \u001b[0;34m=\u001b[0m \u001b[0mself\u001b[0m\u001b[0;34m.\u001b[0m\u001b[0m_open\u001b[0m\u001b[0;34m(\u001b[0m\u001b[0mreq\u001b[0m\u001b[0;34m,\u001b[0m \u001b[0mdata\u001b[0m\u001b[0;34m)\u001b[0m\u001b[0;34m\u001b[0m\u001b[0m\n\u001b[0m\u001b[1;32m    432\u001b[0m \u001b[0;34m\u001b[0m\u001b[0m\n\u001b[1;32m    433\u001b[0m         \u001b[0;31m# post-process response\u001b[0m\u001b[0;34m\u001b[0m\u001b[0;34m\u001b[0m\u001b[0m\n",
      "\u001b[0;32m/usr/local/Cellar/python/2.7.11/Frameworks/Python.framework/Versions/2.7/lib/python2.7/urllib2.pyc\u001b[0m in \u001b[0;36m_open\u001b[0;34m(self, req, data)\u001b[0m\n\u001b[1;32m    447\u001b[0m         \u001b[0mprotocol\u001b[0m \u001b[0;34m=\u001b[0m \u001b[0mreq\u001b[0m\u001b[0;34m.\u001b[0m\u001b[0mget_type\u001b[0m\u001b[0;34m(\u001b[0m\u001b[0;34m)\u001b[0m\u001b[0;34m\u001b[0m\u001b[0m\n\u001b[1;32m    448\u001b[0m         result = self._call_chain(self.handle_open, protocol, protocol +\n\u001b[0;32m--> 449\u001b[0;31m                                   '_open', req)\n\u001b[0m\u001b[1;32m    450\u001b[0m         \u001b[0;32mif\u001b[0m \u001b[0mresult\u001b[0m\u001b[0;34m:\u001b[0m\u001b[0;34m\u001b[0m\u001b[0m\n\u001b[1;32m    451\u001b[0m             \u001b[0;32mreturn\u001b[0m \u001b[0mresult\u001b[0m\u001b[0;34m\u001b[0m\u001b[0m\n",
      "\u001b[0;32m/usr/local/Cellar/python/2.7.11/Frameworks/Python.framework/Versions/2.7/lib/python2.7/urllib2.pyc\u001b[0m in \u001b[0;36m_call_chain\u001b[0;34m(self, chain, kind, meth_name, *args)\u001b[0m\n\u001b[1;32m    407\u001b[0m             \u001b[0mfunc\u001b[0m \u001b[0;34m=\u001b[0m \u001b[0mgetattr\u001b[0m\u001b[0;34m(\u001b[0m\u001b[0mhandler\u001b[0m\u001b[0;34m,\u001b[0m \u001b[0mmeth_name\u001b[0m\u001b[0;34m)\u001b[0m\u001b[0;34m\u001b[0m\u001b[0m\n\u001b[1;32m    408\u001b[0m \u001b[0;34m\u001b[0m\u001b[0m\n\u001b[0;32m--> 409\u001b[0;31m             \u001b[0mresult\u001b[0m \u001b[0;34m=\u001b[0m \u001b[0mfunc\u001b[0m\u001b[0;34m(\u001b[0m\u001b[0;34m*\u001b[0m\u001b[0margs\u001b[0m\u001b[0;34m)\u001b[0m\u001b[0;34m\u001b[0m\u001b[0m\n\u001b[0m\u001b[1;32m    410\u001b[0m             \u001b[0;32mif\u001b[0m \u001b[0mresult\u001b[0m \u001b[0;32mis\u001b[0m \u001b[0;32mnot\u001b[0m \u001b[0mNone\u001b[0m\u001b[0;34m:\u001b[0m\u001b[0;34m\u001b[0m\u001b[0m\n\u001b[1;32m    411\u001b[0m                 \u001b[0;32mreturn\u001b[0m \u001b[0mresult\u001b[0m\u001b[0;34m\u001b[0m\u001b[0m\n",
      "\u001b[0;32m/usr/local/Cellar/python/2.7.11/Frameworks/Python.framework/Versions/2.7/lib/python2.7/urllib2.pyc\u001b[0m in \u001b[0;36mhttps_open\u001b[0;34m(self, req)\u001b[0m\n\u001b[1;32m   1238\u001b[0m         \u001b[0;32mdef\u001b[0m \u001b[0mhttps_open\u001b[0m\u001b[0;34m(\u001b[0m\u001b[0mself\u001b[0m\u001b[0;34m,\u001b[0m \u001b[0mreq\u001b[0m\u001b[0;34m)\u001b[0m\u001b[0;34m:\u001b[0m\u001b[0;34m\u001b[0m\u001b[0m\n\u001b[1;32m   1239\u001b[0m             return self.do_open(httplib.HTTPSConnection, req,\n\u001b[0;32m-> 1240\u001b[0;31m                 context=self._context)\n\u001b[0m\u001b[1;32m   1241\u001b[0m \u001b[0;34m\u001b[0m\u001b[0m\n\u001b[1;32m   1242\u001b[0m         \u001b[0mhttps_request\u001b[0m \u001b[0;34m=\u001b[0m \u001b[0mAbstractHTTPHandler\u001b[0m\u001b[0;34m.\u001b[0m\u001b[0mdo_request_\u001b[0m\u001b[0;34m\u001b[0m\u001b[0m\n",
      "\u001b[0;32m/usr/local/Cellar/python/2.7.11/Frameworks/Python.framework/Versions/2.7/lib/python2.7/urllib2.pyc\u001b[0m in \u001b[0;36mdo_open\u001b[0;34m(self, http_class, req, **http_conn_args)\u001b[0m\n\u001b[1;32m   1195\u001b[0m         \u001b[0;32mexcept\u001b[0m \u001b[0msocket\u001b[0m\u001b[0;34m.\u001b[0m\u001b[0merror\u001b[0m\u001b[0;34m,\u001b[0m \u001b[0merr\u001b[0m\u001b[0;34m:\u001b[0m \u001b[0;31m# XXX what error?\u001b[0m\u001b[0;34m\u001b[0m\u001b[0m\n\u001b[1;32m   1196\u001b[0m             \u001b[0mh\u001b[0m\u001b[0;34m.\u001b[0m\u001b[0mclose\u001b[0m\u001b[0;34m(\u001b[0m\u001b[0;34m)\u001b[0m\u001b[0;34m\u001b[0m\u001b[0m\n\u001b[0;32m-> 1197\u001b[0;31m             \u001b[0;32mraise\u001b[0m \u001b[0mURLError\u001b[0m\u001b[0;34m(\u001b[0m\u001b[0merr\u001b[0m\u001b[0;34m)\u001b[0m\u001b[0;34m\u001b[0m\u001b[0m\n\u001b[0m\u001b[1;32m   1198\u001b[0m         \u001b[0;32melse\u001b[0m\u001b[0;34m:\u001b[0m\u001b[0;34m\u001b[0m\u001b[0m\n\u001b[1;32m   1199\u001b[0m             \u001b[0;32mtry\u001b[0m\u001b[0;34m:\u001b[0m\u001b[0;34m\u001b[0m\u001b[0m\n",
      "\u001b[0;31mURLError\u001b[0m: <urlopen error EOF occurred in violation of protocol (_ssl.c:590)>"
     ]
    }
   ],
   "source": [
    "groups = [\"109490789\", \n",
    "          \"2100831\", \n",
    "          \"11912933\", \n",
    "          \"1167943\", \n",
    "          \"15335079\", \n",
    "          \"12813079\", \n",
    "          \"68478644\",\n",
    "          \"16vzvoduvo\",\n",
    "          \"59565067\",\n",
    "          \"61511779\",\n",
    "          \"1182973\",\n",
    "          \"1119648\",\n",
    "          \"21754234\",\n",
    "          \"14294712\",\n",
    "          \"7591998\",\n",
    "          \"8702762\",\n",
    "          \"23386497\",\n",
    "          \"1566321\",\n",
    "          \"55523638\"]\n",
    "\n",
    "users = []\n",
    "\n",
    "for group in groups:\n",
    "    params = {\"group_id\": group, \n",
    "              \"count\": 500, \n",
    "              \"fields\": \"sex,education,universities,schools\",\n",
    "              \"access_token\": accessToken}\n",
    "    params = urlencode(params)\n",
    "\n",
    "    url = \"https://api.vk.com/method/groups.getMembers?\" + params\n",
    "    data = json.load(urllib2.urlopen(url))\n",
    "    data_users = data['response']['users']\n",
    "    \n",
    "    print(\"extracted %d users from %s\" % (len(data_users), group))\n",
    "    users.extend(data_users)\n",
    "    time.sleep(0.5)\n",
    "    \n",
    "print(\"sum: %d\" % len(users))\n",
    "\n",
    "f = open('datasets/police/users.json','w')\n",
    "f.write(json.dumps(users))\n",
    "f.close()"
   ]
  },
  {
   "cell_type": "markdown",
   "metadata": {},
   "source": [
    "# Достаем случайных людей из Петербурга"
   ]
  },
  {
   "cell_type": "code",
   "execution_count": null,
   "metadata": {
    "collapsed": true
   },
   "outputs": [],
   "source": [
    "people = []\n",
    "\n",
    "while len(people) < 2500:\n",
    "    random_ids = []\n",
    "    for i in range(0, 100):\n",
    "        random_ids.append(random.randint(1, 90000000))\n",
    "\n",
    "    user_ids = \",\".join(str(x) for x in random_ids)\n",
    "    params = {\"user_ids\": user_ids, \n",
    "              \"fields\": \"sex,education,universities,schools,city\", \n",
    "              \"access_token\": accessToken}\n",
    "    params = urlencode(params)\n",
    "\n",
    "    url = \"https://api.vk.com/method/users.get?\" + params\n",
    "    data = json.load(urllib2.urlopen(url))\n",
    "   \n",
    "    fetched_people = data.get('response', [])\n",
    "    fetched_people = filter(lambda x: x.get('deactivated', '') == '', fetched_people)\n",
    "    fetched_people = filter(lambda x: x.get('city', 0) == 2, fetched_people)\n",
    "    \n",
    "    print(\"extracted %d users\" % len(fetched_people))\n",
    "    people.extend(fetched_people)\n",
    "    time.sleep(0.25)\n",
    "    \n",
    "f = open('datasets/people/users.json','w')\n",
    "f.write(json.dumps(people))\n",
    "f.close()"
   ]
  },
  {
   "cell_type": "markdown",
   "metadata": {},
   "source": [
    "# Достаем группы"
   ]
  },
  {
   "cell_type": "code",
   "execution_count": 5,
   "metadata": {
    "collapsed": true
   },
   "outputs": [],
   "source": [
    "def get_groups(users_file, save_to):\n",
    "    with open(users_file) as data_file:    \n",
    "        users = json.load(data_file)\n",
    "\n",
    "    groups = {}\n",
    "\n",
    "    print(\"processing %d users\" % len(users))\n",
    "    for i in range(0, len(users)):\n",
    "        params = {\"user_id\": users[i]['uid'], \n",
    "                  \"extended\": 0, \n",
    "                  \"access_token\": accessToken}\n",
    "        params = urlencode(params)\n",
    "\n",
    "        url = \"https://api.vk.com/method/groups.get?\" + params\n",
    "        data = json.load(urllib2.urlopen(url))\n",
    "\n",
    "        if data.get('response', ''):\n",
    "            user_groups = data['response']\n",
    "            for user_group in user_groups:\n",
    "                groups[user_group] = groups.get(user_group, 0) + 1\n",
    "\n",
    "            print \"%d\" % (i + 1),\n",
    "        time.sleep(0.5)\n",
    "\n",
    "    f = open(save_to,'w')\n",
    "    f.write(json.dumps(groups))\n",
    "    f.close()"
   ]
  },
  {
   "cell_type": "code",
   "execution_count": null,
   "metadata": {
    "collapsed": true
   },
   "outputs": [],
   "source": [
    "get_groups('datasets/police/users.json', 'datasets/police/groups_ids.json')"
   ]
  },
  {
   "cell_type": "code",
   "execution_count": 6,
   "metadata": {
    "collapsed": false
   },
   "outputs": [
    {
     "name": "stdout",
     "output_type": "stream",
     "text": [
      "processing 2503 users\n",
      "1 5 7 9 10 13 14 18 20 21 22 23 24 25 28 33 37 38 41 42 43 44 46 48 49 50 51 54 56 57 58 59 60 65 68 70 71 72 73 76 77 80 82 83 85 86 90 91 94 95 97 98 99 100 101 105 106 107 109 110 111 112 113 114 115 116 119 120 121 122 123 124 125 126 128 130 132 133 134 136 137 138 139 141 143 145 147 148 149 150 151 152 153 155 156 157 158 160 162 164 165 166 167 168 171 173 176 178 179 180 184 185 186 188 189 190 191 193 194 196 198 200 201 203 205 206 208 209 210 213 214 216 217 221 222 225 226 228 230 233 234 235 236 239 240 241 242 244 245 246 252 254 255 257 258 259 260 261 262 263 266 267 268 269 270 271 272 273 275 276 277 279 281 283 284 285 286 289 290 291 293 294 295 296 298 300 302 303 304 306 307 308 309 310 311 312 313 318 319 320 322 323 326 327 329 330 331 332 336 341 342 343 344 346 348 351 352 354 357 358 359 360 362 363 364 365 366 367 368 369 370 373 377 378 379 380 382 383 385 387 389 391 393 394 395 397 403 404 405 406 407 408 410 412 413 414 415 416 417 419 420 421 424 427 428 430 431 435 436 440 442 445 446 447 448 452 453 456 457 458 460 461 464 467 469 470 471 473 475 476 478 479 480 482 483 484 485 486 488 489 492 493 494 501 503 504 505 506 507 509 510 512 513 514 517 518 519 522 524 525 526 528 529 530 531 534 535 536 537 538 540 543 545 546 547 548 549 551 552 553 556 558 559 561 562 563 564 565 567 570 571 572 574 575 576 577 578 579 580 581 582 585 587 588 590 591 593 595 596 598 600 602 605 607 609 610 611 612 614 616 617 618 619 622 623 624 625 627 628 629 631 633 634 635 636 638 639 640 641 642 643 644 645 646 648 649 650 652 653 654 656 657 658 659 660 661 662 663 664 667 669 670 671 672 673 674 676 677 678 680 682 683 687 689 690 691 692 693 695 696 697 699 700 701 704 706 707 709 710 711 714 715 717 720 726 727 728 729 730 731 732 733 734 735 736 737 738 740 742 743 744 745 747 748 749 751 752 753 754 756 757 758 759 761 762 763 764 765 766 768 770 771 772 773 776 778 780 781 782 784 786 790 793 796 797 798 800 803 804 805 806 807 808 809 814 815 816 819 820 821 823 825 826 827 829 831 835 840 841 843 844 845 846 848 850 851 853 857 858 859 860 861 863 864 865 866 867 870 871 872 873 874 875 876 877 878 879 880 881 883 884 887 889 890 891 892 894 897 902 903 905 907 908 909 910 912 913 915 916 917 918 919 920 922 924 928 929 930 931 932 934 936 937 938 939 940 941 943 944 945 946 947 948 950 952 955 956 957 958 959 962 964 965 966 968 969 970 971 972 973 974 975 977 978 979 980 981 983 984 986 988 989 992 993 994 995 996 998 999 1001 1002 1005 1006 1007 1010 1011 1014 1017 1018 1019 1020 1022 1023 1028 1033 1034 1036 1037 1039 1041 1042 1044 1045 1046 1048 1049 1050 1051 1052 1053 1054 1055 1057 1060 1061 1063 1064 1065 1066 1067 1068 1070 1071 1075 1077 1079 1080 1084 1085 1087 1089 1090 1091 1092 1093 1094 1095 1097 1098 1099 1100 1101 1104 1105 1106 1107 1108 1111 1113 1115 1117 1118 1119 1120 1121 1124 1125 1126 1128 1129 1130 1131 1132 1134 1137 1138 1139 1140 1141 1142 1143 1145 1147 1148 1149 1151 1152 1153 1155 1157 1158 1160 1161 1162 1163 1164 1165 1168 1170 1171 1172 1173 1174 1175 1176 1177 1178 1179 1180 1181 1183 1184 1185 1186 1187 1188 1189 1193 1195 1197 1198 1200 1201 1205 1206 1207 1208 1209 1210 1211 1214 1215 1216 1218 1219 1221 1222 1225 1226 1227 1229 1230 1233 1235 1238 1239 1241 1242 1244 1245 1246 1247 1248 1250 1254 1255 1259 1261 1262 1263 1264 1265 1266 1267 1268 1269 1270 1271 1272 1273 1274 1277 1279 1280 1281 1282 1283 1284 1287 1288 1290 1292 1293 1294 1296 1297 1298 1299 1300 1301 1306 1307 1308 1309 1311 1313 1314 1315 1316 1317 1320 1321 1324 1325 1326 1328 1329 1331 1334 1336 1338 1339 1341 1345 1346 1348 1350 1353 1354 1356 1357 1359 1361 1363 1366 1367 1368 1369 1370 1371 1373 1375 1376 1377 1378 1379 1380 1381 1382 1383 1384 1385 1386 1388 1390 1392 1393 1395 1396 1399 1401 1403 1404 1406 1409 1410 1412 1418 1420 1421 1422 1425 1426 1427 1428 1429 1430 1432 1433 1436 1439 1440 1441 1442 1443 1444 1445 1446 1448 1449 1451 1454 1455 1457 1459 1461 1462 1464 1465 1466 1468 1469 1470 1471 1472 1473 1475 1477 1479 1480 1481 1483 1484 1485 1486 1489 1491 1492 1493 1494 1496 1497 1499 1500 1501 1502 1503 1504 1506 1507 1511 1514 1516 1517 1519 1521 1522 1524 1528 1531 1532 1533 1534 1535 1537 1538 1539 1540 1541 1542 1543 1544 1547 1551 1552 1553 1554 1557 1560 1561 1562 1563 1564 1566 1567 1569 1571 1573 1574 1575 1577 1578 1579 1580 1581 1582 1586 1587 1588 1589 1590 1591 1592 1595 1598 1599 1600 1601 1602 1604 1605 1606 1607 1608 1609 1610 1611 1612 1614 1618 1620 1621 1627 1628 1629 1630 1632 1633 1634 1636 1639 1640 1642 1643 1644 1645 1646 1647 1648 1650 1654 1655 1657 1658 1660 1663 1664 1665 1666 1667 1671 1673 1674 1675 1678 1679 1680 1684 1685 1686 1688 1689 1690 1691 1692 1693 1695 1700 1702 1703 1704 1705 1707 1709 1711 1716 1717 1718 1720 1724 1725 1726 1727 1729 1731 1733 1735 1737 1739 1740 1741 1742 1743 1744 1746 1748 1749 1751 1752 1753 1754 1757 1759 1760 1761 1762 1763 1764 1765 1766 1771 1772 1773 1775 1776 1778 1784 1785 1786 1787 1788 1789 1791 1792 1795 1796 1799 1801 1803 1804 1807 1810 1812 1813 1814 1815 1816 1819 1820 1821 1822 1823 1824 1825 1828 1832 1833 1835 1836 1837 1838 1839 1840 1843 1845 1846 1848 1849 1850 1851 1852 1853 1855 1856 1857 1859 1860 1862 1863 1864 1865 1868 1869 1872 1873 1875 1876 1881 1883 1884 1885 1886 1888 1891 1893 1894 1895 1900 1901 1902 1903 1904 1905 1906 1907 1913 1914 1916 1917 1919 1923 1924 1925 1931 1935 1936 1937 1938 1939 1940 1942 1944 1946 1950 1953 1954 1956 1957 1959 1960 1961 1963 1964 1966 1967 1968 1969 1973 1974 1976 1977 1979 1980 1983 1987 1988 1989 1990 1992 1993 1995 1997 1999 2001 2002 2004 2006 2008 2011 2013 2014 2015 2017 2019 2021 2022 2024 2026 2028 2030 2034 2035 2037 2038 2039 2040 2042 2043 2044 2045 2049 2051 2053 2054 2055 2056 2058 2059 2060 2062 2063 2064 2065 2066 2067 2068 2071 2072 2073 2074 2076 2077 2080 2082 2084 2085 2086 2087 2088 2089 2090 2092 2093 2094 2095 2100 2101 2104 2108 2109 2110 2112 2113 2116 2118 2119 2120 2123 2124 2126 2127 2128 2130 2131 2132 2133 2134 2135 2136 2137 2138 2140 2142 2143 2144 2146 2147 2148 2149 2150 2151 2152 2154 2156 2157 2158 2159 2160 2163 2164 2166 2167 2169 2170 2171 2174 2175 2177 2179 2180 2181 2182 2183 2184 2185 2189 2190 2192 2193 2194 2195 2196 2198 2200 2201 2202 2204 2206 2208 2209 2211 2212 2213 2214 2215 2217 2218 2219 2220 2221 2222 2223 2224 2230 2231 2232 2233 2236 2238 2239 2241 2243 2246 2249 2251 2252 2253 2255 2257 2258 2260 2261 2265 2267 2271 2272 2273 2275 2276 2277 2279 2281 2283 2285 2286 2287 2289 2290 2292 2293 2295 2296 2298 2299 2302 2305 2306 2308 2309 2310 2311 2312 2313 2316 2317 2318 2319 2320 2322 2323 2324 2325 2331 2332 2334 2335 2338 2339 2340 2341 2342 2343 2344 2345 2346 2348 2351 2352 2355 2358 2359 2360 2361 2362 2363 2366 2368 2372 2373 2374 2376 2378 2379 2380 2381 2382 2383 2384 2385 2388 2389 2390 2391 2392 2393 2396 2397 2398 2401 2402 2405 2406 2407 2410 2412 2416 2418 2419 2421 2422 2423 2428 2430 2433 2435 2436 2437 2438 2439 2441 2445 2448 2449 2452 2454 2456 2458 2459 2461 2463 2465 2466 2468 2470 2473 2475 2476 2477 2478 2480 2482 2485 2487 2488 2489 2490 2494 2496 2497 2498 2499 2503\n"
     ]
    }
   ],
   "source": [
    "get_groups('datasets/people/users.json', 'datasets/people/groups_ids.json')"
   ]
  },
  {
   "cell_type": "markdown",
   "metadata": {},
   "source": [
    "# Достаем названия групп"
   ]
  },
  {
   "cell_type": "code",
   "execution_count": 16,
   "metadata": {
    "collapsed": true
   },
   "outputs": [],
   "source": [
    "def get_group_names(group_ids_file, save_to):\n",
    "    with open(group_ids_file) as data_file:    \n",
    "        groups = json.load(data_file)\n",
    "\n",
    "    sorted_groups = sorted(groups.items(), key=operator.itemgetter(1))\n",
    "    sorted_groups.reverse()\n",
    "\n",
    "    # ids of first 100 groups as string\n",
    "    group_ids = \",\".join(map(lambda x: x[0], sorted_groups[:100]))\n",
    "    params = {\"group_ids\": group_ids}\n",
    "    params = urlencode(params)\n",
    "    url = \"https://api.vk.com/method/groups.getById?\" + params\n",
    "    data = json.load(urllib2.urlopen(url))\n",
    "\n",
    "    # function to \"attach\" people count to groups\n",
    "    def add_people_count(group_info):\n",
    "        group_info['people_count'] = groups.get(str(group_info['gid']), 0)\n",
    "        return group_info\n",
    "\n",
    "    if data.get('response', ''):\n",
    "        groups_info = data['response']\n",
    "        groups_info = map(add_people_count, groups_info)\n",
    "\n",
    "        f = open(save_to,'w')\n",
    "        f.write(json.dumps(groups_info))\n",
    "        f.close()"
   ]
  },
  {
   "cell_type": "code",
   "execution_count": null,
   "metadata": {
    "collapsed": true
   },
   "outputs": [],
   "source": [
    "get_group_names('datasets/police/groups_ids.json', 'datasets/police/groups.json')"
   ]
  },
  {
   "cell_type": "code",
   "execution_count": 12,
   "metadata": {
    "collapsed": true
   },
   "outputs": [],
   "source": [
    "get_group_names('datasets/people/groups_ids.json', 'datasets/people/groups.json')"
   ]
  },
  {
   "cell_type": "code",
   "execution_count": 17,
   "metadata": {
    "collapsed": false
   },
   "outputs": [
    {
     "ename": "AttributeError",
     "evalue": "'list' object has no attribute 'items'",
     "output_type": "error",
     "traceback": [
      "\u001b[0;31m---------------------------------------------------------------------------\u001b[0m",
      "\u001b[0;31mAttributeError\u001b[0m                            Traceback (most recent call last)",
      "\u001b[0;32m<ipython-input-17-30acf693512f>\u001b[0m in \u001b[0;36m<module>\u001b[0;34m()\u001b[0m\n\u001b[0;32m----> 1\u001b[0;31m \u001b[0mget_group_names\u001b[0m\u001b[0;34m(\u001b[0m\u001b[0;34m'datasets/police/media_ids.json'\u001b[0m\u001b[0;34m,\u001b[0m \u001b[0;34m'datasets/police/media.json'\u001b[0m\u001b[0;34m)\u001b[0m\u001b[0;34m\u001b[0m\u001b[0m\n\u001b[0m",
      "\u001b[0;32m<ipython-input-16-fb54287d3161>\u001b[0m in \u001b[0;36mget_group_names\u001b[0;34m(group_ids_file, save_to)\u001b[0m\n\u001b[1;32m      3\u001b[0m         \u001b[0mgroups\u001b[0m \u001b[0;34m=\u001b[0m \u001b[0mjson\u001b[0m\u001b[0;34m.\u001b[0m\u001b[0mload\u001b[0m\u001b[0;34m(\u001b[0m\u001b[0mdata_file\u001b[0m\u001b[0;34m)\u001b[0m\u001b[0;34m\u001b[0m\u001b[0m\n\u001b[1;32m      4\u001b[0m \u001b[0;34m\u001b[0m\u001b[0m\n\u001b[0;32m----> 5\u001b[0;31m     \u001b[0msorted_groups\u001b[0m \u001b[0;34m=\u001b[0m \u001b[0msorted\u001b[0m\u001b[0;34m(\u001b[0m\u001b[0mgroups\u001b[0m\u001b[0;34m.\u001b[0m\u001b[0mitems\u001b[0m\u001b[0;34m(\u001b[0m\u001b[0;34m)\u001b[0m\u001b[0;34m,\u001b[0m \u001b[0mkey\u001b[0m\u001b[0;34m=\u001b[0m\u001b[0moperator\u001b[0m\u001b[0;34m.\u001b[0m\u001b[0mitemgetter\u001b[0m\u001b[0;34m(\u001b[0m\u001b[0;36m1\u001b[0m\u001b[0;34m)\u001b[0m\u001b[0;34m)\u001b[0m\u001b[0;34m\u001b[0m\u001b[0m\n\u001b[0m\u001b[1;32m      6\u001b[0m     \u001b[0msorted_groups\u001b[0m\u001b[0;34m.\u001b[0m\u001b[0mreverse\u001b[0m\u001b[0;34m(\u001b[0m\u001b[0;34m)\u001b[0m\u001b[0;34m\u001b[0m\u001b[0m\n\u001b[1;32m      7\u001b[0m \u001b[0;34m\u001b[0m\u001b[0m\n",
      "\u001b[0;31mAttributeError\u001b[0m: 'list' object has no attribute 'items'"
     ]
    }
   ],
   "source": [
    "get_group_names('datasets/police/media_ids.json', 'datasets/police/media.json')"
   ]
  },
  {
   "cell_type": "code",
   "execution_count": 14,
   "metadata": {
    "collapsed": true
   },
   "outputs": [],
   "source": [
    "get_group_names('datasets/people/media_ids.json', 'datasets/people/media.json')"
   ]
  },
  {
   "cell_type": "code",
   "execution_count": null,
   "metadata": {
    "collapsed": true
   },
   "outputs": [],
   "source": []
  }
 ],
 "metadata": {
  "kernelspec": {
   "display_name": "Python 2",
   "language": "python",
   "name": "python2"
  },
  "language_info": {
   "codemirror_mode": {
    "name": "ipython",
    "version": 2
   },
   "file_extension": ".py",
   "mimetype": "text/x-python",
   "name": "python",
   "nbconvert_exporter": "python",
   "pygments_lexer": "ipython2",
   "version": "2.7.11"
  }
 },
 "nbformat": 4,
 "nbformat_minor": 0
}
