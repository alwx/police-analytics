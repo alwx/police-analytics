{
 "cells": [
  {
   "cell_type": "markdown",
   "metadata": {},
   "source": [
    "Прежде чем запускать следующее, нужно пройти VK-авторизацию!"
   ]
  },
  {
   "cell_type": "code",
   "execution_count": 4,
   "metadata": {
    "collapsed": false
   },
   "outputs": [],
   "source": [
    "import json\n",
    "import urllib2   \n",
    "\n",
    "file = open('datasets/token', 'r')\n",
    "accessToken = file.read()"
   ]
  },
  {
   "cell_type": "markdown",
   "metadata": {
    "collapsed": false
   },
   "source": [
    "# Достаем участников группы"
   ]
  },
  {
   "cell_type": "code",
   "execution_count": 5,
   "metadata": {
    "collapsed": false
   },
   "outputs": [
    {
     "name": "stdout",
     "output_type": "stream",
     "text": [
      "extracted 26 users from 109490789\n",
      "extracted 200 users from 2100831\n",
      "extracted 51 users from 11912933\n",
      "extracted 104 users from 1167943\n",
      "extracted 41 users from 15335079\n",
      "extracted 31 users from 12813079\n",
      "extracted 17 users from 68478644\n",
      "extracted 13 users from 16vzvoduvo\n",
      "extracted 97 users from 59565067\n",
      "extracted 30 users from 61511779\n",
      "extracted 200 users from 1182973\n",
      "extracted 200 users from 1119648\n",
      "extracted 91 users from 21754234\n",
      "extracted 8 users from 14294712\n",
      "extracted 35 users from 7591998\n",
      "extracted 34 users from 8702762\n",
      "extracted 2 users from 23386497\n",
      "extracted 86 users from 1566321\n",
      "extracted 44 users from 55523638\n",
      "sum: 1310\n"
     ]
    }
   ],
   "source": [
    "from urllib import urlencode\n",
    "import time\n",
    "\n",
    "groups = [\"109490789\", \n",
    "          \"2100831\", \n",
    "          \"11912933\", \n",
    "          \"1167943\", \n",
    "          \"15335079\", \n",
    "          \"12813079\", \n",
    "          \"68478644\",\n",
    "          \"16vzvoduvo\",\n",
    "          \"59565067\",\n",
    "          \"61511779\",\n",
    "          \"1182973\",\n",
    "          \"1119648\",\n",
    "          \"21754234\",\n",
    "          \"14294712\",\n",
    "          \"7591998\",\n",
    "          \"8702762\",\n",
    "          \"23386497\",\n",
    "          \"1566321\",\n",
    "          \"55523638\"]\n",
    "\n",
    "users = []\n",
    "\n",
    "for group in groups:\n",
    "    params = {\"group_id\": group, \n",
    "              \"count\": 200, \n",
    "              \"fields\": \"sex,education\",\n",
    "              \"access_token\": accessToken}\n",
    "    params = urlencode(params)\n",
    "\n",
    "    url = \"https://api.vk.com/method/groups.getMembers?\" + params\n",
    "    data = json.load(urllib2.urlopen(url))\n",
    "    if data.get('response', \"\"): \n",
    "        data_users = data['response']['users']\n",
    "    \n",
    "        print(\"extracted %d users from %s\" % (len(data_users), group))\n",
    "        users.extend(data_users)\n",
    "        time.sleep(0.3)\n",
    "    \n",
    "print(\"sum: %d\" % len(users))"
   ]
  },
  {
   "cell_type": "markdown",
   "metadata": {},
   "source": [
    "# Достаем у всех найденных пользователей друзей с тегом \"Коллеги\""
   ]
  },
  {
   "cell_type": "code",
   "execution_count": 74,
   "metadata": {
    "collapsed": false
   },
   "outputs": [
    {
     "name": "stdout",
     "output_type": "stream",
     "text": [
      "\n"
     ]
    }
   ],
   "source": [
    "import json\n",
    "\n",
    "collegues = []\n",
    "\n",
    "with open('data_menty0302.json', 'w') as outfile:\n",
    "\n",
    "    for user in users: \n",
    "        params = {\"user_id\": user.get('uid', \"\"),\n",
    "    \n",
    "#    for i in range(0,10): \n",
    "#        params = {\"user_id\": users[i].get('uid', \"\"),\n",
    "                  \"fields\" : \"lists\",\n",
    "                  \"access_token\": accessToken}\n",
    "        params = urlencode(params)\n",
    "\n",
    "        url = \"https://api.vk.com/method/friends.get?\" + params\n",
    "        data = json.load(urllib2.urlopen(url))\n",
    "\n",
    "        json.dump(data, outfile)\n",
    "\n",
    "        if data.get('response', \"\"):    \n",
    "            for friend in data['response']:\n",
    "#                print '.',\n",
    "                lists = friend.get('lists', \"\")\n",
    "                if lists and 27 in lists:\n",
    "                    collegues.append(friend.get('uid', \"\"))\n",
    "#                    print('got it')\n",
    "        time.sleep(0.3)\n",
    "\n",
    "colleguesSet = set(collegues)    \n",
    "#print(colleguesSet)\n",
    "\n",
    "with open('result_collegues0302.txt', 'w') as outfileResult:\n",
    "    for item in colleguesSet:\n",
    "        outfileResult.write(\"%s\\n\" % item)   \n",
    "\n",
    "\n",
    "#myset = set(mylist)\n",
    "    #print(data)\n",
    "\n",
    "    "
   ]
  },
  {
   "cell_type": "code",
   "execution_count": null,
   "metadata": {
    "collapsed": true
   },
   "outputs": [],
   "source": []
  },
  {
   "cell_type": "code",
   "execution_count": null,
   "metadata": {
    "collapsed": true
   },
   "outputs": [],
   "source": []
  }
 ],
 "metadata": {
  "kernelspec": {
   "display_name": "Python 2",
   "language": "python",
   "name": "python2"
  },
  "language_info": {
   "codemirror_mode": {
    "name": "ipython",
    "version": 2
   },
   "file_extension": ".py",
   "mimetype": "text/x-python",
   "name": "python",
   "nbconvert_exporter": "python",
   "pygments_lexer": "ipython2",
   "version": "2.7.11"
  }
 },
 "nbformat": 4,
 "nbformat_minor": 0
}
