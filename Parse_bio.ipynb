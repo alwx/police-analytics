{
 "cells": [
  {
   "cell_type": "markdown",
   "metadata": {},
   "source": [
    "Прежде чем запускать следующее, нужно пройти VK-авторизацию!"
   ]
  },
  {
   "cell_type": "code",
   "execution_count": 1,
   "metadata": {
    "collapsed": false
   },
   "outputs": [
    {
     "data": {
      "application/javascript": [
       "var kernel = IPython.notebook.kernel;\n",
       "var command = \"currentUrl = \" + \"'\" + window.location + \"'\";\n",
       "kernel.execute(command);"
      ],
      "text/plain": [
       "<IPython.core.display.Javascript object>"
      ]
     },
     "metadata": {},
     "output_type": "display_data"
    }
   ],
   "source": [
    "%%javascript\n",
    "var kernel = IPython.notebook.kernel;\n",
    "var command = \"currentUrl = \" + \"'\" + window.location + \"'\";\n",
    "kernel.execute(command);"
   ]
  },
  {
   "cell_type": "code",
   "execution_count": 2,
   "metadata": {
    "collapsed": false
   },
   "outputs": [],
   "source": [
    "from urlparse import urlparse\n",
    "\n",
    "r = urlparse(currentUrl)\n",
    "code = r.query[5:]\n",
    "\n",
    "url = (\"https://oauth.vk.com/access_token\"\n",
    "       \"?client_id=5429181\" \n",
    "       \"&client_secret=uAZqxwa2hgjLa4KLvbTG\"\n",
    "       \"&code=\" + code +\n",
    "       \"&redirect_uri=\"  + r.scheme + \"://\" + r.netloc + r.path)"
   ]
  },
  {
   "cell_type": "code",
   "execution_count": 3,
   "metadata": {
    "collapsed": false
   },
   "outputs": [],
   "source": [
    "import json\n",
    "import urllib2   \n",
    "\n",
    "data = json.load(urllib2.urlopen(url))\n",
    "accessToken = data['access_token']"
   ]
  },
  {
   "cell_type": "markdown",
   "metadata": {
    "collapsed": false
   },
   "source": [
    "# Достаем участников группы"
   ]
  },
  {
   "cell_type": "code",
   "execution_count": 36,
   "metadata": {
    "collapsed": false
   },
   "outputs": [
    {
     "name": "stdout",
     "output_type": "stream",
     "text": [
      "extracted 26 users from 109490789\n",
      "extracted 200 users from 2100831\n",
      "extracted 51 users from 11912933\n",
      "extracted 104 users from 1167943\n",
      "extracted 41 users from 15335079\n",
      "extracted 31 users from 12813079\n",
      "extracted 17 users from 68478644\n",
      "extracted 13 users from 16vzvoduvo\n",
      "extracted 97 users from 59565067\n",
      "extracted 30 users from 61511779\n",
      "extracted 200 users from 1182973\n",
      "extracted 200 users from 1119648\n",
      "extracted 91 users from 21754234\n",
      "extracted 8 users from 14294712\n",
      "extracted 35 users from 7591998\n",
      "extracted 34 users from 8702762\n",
      "extracted 2 users from 23386497\n",
      "extracted 86 users from 1566321\n",
      "extracted 44 users from 55523638\n",
      "sum: 1310\n"
     ]
    }
   ],
   "source": [
    "from urllib import urlencode\n",
    "import time\n",
    "\n",
    "groups = [\"109490789\", \n",
    "          \"2100831\", \n",
    "          \"11912933\", \n",
    "          \"1167943\", \n",
    "          \"15335079\", \n",
    "          \"12813079\", \n",
    "          \"68478644\",\n",
    "          \"16vzvoduvo\",\n",
    "          \"59565067\",\n",
    "          \"61511779\",\n",
    "          \"1182973\",\n",
    "          \"1119648\",\n",
    "          \"21754234\",\n",
    "          \"14294712\",\n",
    "          \"7591998\",\n",
    "          \"8702762\",\n",
    "          \"23386497\",\n",
    "          \"1566321\",\n",
    "          \"55523638\"]\n",
    "\n",
    "users = []\n",
    "\n",
    "for group in groups:\n",
    "    params = {\"group_id\": group, \n",
    "              \"count\": 200, \n",
    "              \"fields\": \"sex,education\",\n",
    "              \"access_token\": accessToken}\n",
    "    params = urlencode(params)\n",
    "\n",
    "    url = \"https://api.vk.com/method/groups.getMembers?\" + params\n",
    "    data = json.load(urllib2.urlopen(url))\n",
    "    if data.get('response', \"\"): \n",
    "        data_users = data['response']['users']\n",
    "    \n",
    "        print(\"extracted %d users from %s\" % (len(data_users), group))\n",
    "        users.extend(data_users)\n",
    "        time.sleep(0.3)\n",
    "    \n",
    "print(\"sum: %d\" % len(users))"
   ]
  },
  {
   "cell_type": "markdown",
   "metadata": {},
   "source": [
    "# Достаем у всех найденных пользователей персональную информацию"
   ]
  },
  {
   "cell_type": "code",
   "execution_count": 50,
   "metadata": {
    "collapsed": false
   },
   "outputs": [
    {
     "name": "stdout",
     "output_type": "stream",
     "text": [
      "[{u'personal': {u'religion': u'Nothingdoing', u'alcohol': 1, u'smoking': 1, u'inspired_by': u'\\u043a\\u0443\\u0440\\u0435\\u043d\\u0438\\u0435 \\u0438 \\u0430\\u043b\\u043a\\u043e\\u0433\\u043e\\u043b\\u044c'}, u'first_name': u'Mega', u'last_name': u'\\u0411\\u044b\\u0434\\u043b\\u043e\\u0432\\u0438\\u0447', u'uid': 378807}, {u'first_name': u'\\u041d\\u0430\\u0440\\u0438\\u043d\\u0430', u'last_name': u'\\u0421\\u0442\\u0435\\u043f\\u0430\\u043d\\u044f\\u043d\\u0446', u'uid': 545614}, {u'personal': {u'people_main': 2, u'alcohol': 5, u'inspired_by': u'\\u0434\\u043e\\u0447\\u044c)))', u'political': 3, u'religion': u'\\u0421\\u0432\\u0435\\u0442\\u0441\\u043a\\u0438\\u0439 \\u0433\\u0443\\u043c\\u0430\\u043d\\u0438\\u0437\\u043c', u'smoking': 5, u'life_main': 1}, u'first_name': u'\\u0421\\u0442\\u0430\\u043d\\u0438\\u0441\\u043b\\u0430\\u0432', u'last_name': u'\\u041a\\u043e\\u0437\\u043b\\u043e\\u0432', u'uid': 661576}, {u'personal': [], u'first_name': u'\\u0422\\u0451\\u043c\\u043d\\u044b\\u0439', u'last_name': u'\\u0418\\u043d\\u043a\\u0432\\u0438\\u0437\\u0438\\u0442\\u043e\\u0440', u'uid': 1391016}, {u'personal': [], u'first_name': u'\\u041c\\u0430\\u043a\\u0441\\u0438\\u043c', u'last_name': u'\\u0423\\u0434\\u043e\\u0432\\u0438\\u0447\\u0435\\u043d\\u043a\\u043e', u'uid': 1999611}, {u'personal': {u'religion': u'\\u043f\\u0440\\u0438\\u0441\\u0443\\u0442\\u0441\\u0442\\u0432\\u0443\\u044e\\u0442'}, u'first_name': u'\\u0414\\u043c\\u0438\\u0442\\u0440\\u0438\\u0439', u'last_name': u'\\u0417\\u0430\\u0441\\u0442\\u0430\\u0432\\u0441\\u043a\\u0438\\u0439', u'uid': 2146240}, {u'personal': {u'religion': u'jedi knight'}, u'first_name': u'Nikita', u'last_name': u'Afonichkin', u'uid': 6038775}, {u'first_name': u'\\u0420\\u043e\\u043c\\u0430\\u043d', u'last_name': u'\\u041f\\u0435\\u0440\\u0435\\u0433\\u0443\\u0434\\u043e\\u0432', u'uid': 7212235}, {u'first_name': u'\\u0420\\u0438\\u0442\\u0430', u'last_name': u'\\u041b\\u0435\\u0441\\u043d\\u0430\\u044f', u'uid': 8885745}, {u'first_name': u'\\u0410\\u043b\\u0438\\u043d\\u0430', u'last_name': u'\\u041b\\u044b\\u0441\\u044e\\u043a', u'uid': 14165447}, {u'first_name': u'\\u041c\\u0430\\u0440\\u0438\\u044f', u'last_name': u'\\u0420\\u0435\\u0437\\u043d\\u0438\\u0447\\u0435\\u043d\\u043a\\u043e', u'uid': 22203244}, {u'first_name': u'\\u041d\\u0438\\u043a\\u043e\\u043b\\u0430\\u0439', u'last_name': u'\\u0411\\u044b\\u0447\\u0435\\u043d\\u044f', u'uid': 22733753}, {u'first_name': u'\\u0414\\u0438\\u043c\\u0430', u'last_name': u'\\u0424\\u0440\\u043e\\u043b\\u043e\\u0432', u'uid': 34675538}, {u'first_name': u'\\u041c\\u0430\\u043a\\u0441\\u0438\\u043c', u'last_name': u'\\u041a\\u043e\\u0432\\u0430\\u043b\\u0435\\u0432\\u0441\\u043a\\u0438\\u0439', u'uid': 36191198}, {u'first_name': u'\\u0410\\u043d\\u0430\\u0442\\u043e\\u043b\\u0438\\u0439', u'last_name': u'\\u0421\\u0432\\u044f\\u0442\\u043e\\u0433\\u043e\\u0440\\u0441\\u043a\\u0438\\u0439', u'uid': 69513065}, {u'first_name': u'\\u041c\\u0430\\u0440\\u0433\\u0430\\u0440\\u0438\\u0442\\u0430', u'last_name': u'\\u0413\\u0440\\u0443\\u0434\\u0438\\u043d\\u0430', u'uid': 72260436}, {u'first_name': u'\\u0421\\u0432\\u0435\\u0442\\u043b\\u0430\\u043d\\u0430', u'last_name': u'\\u041c\\u0435\\u0436\\u0435\\u043d\\u0441\\u043a\\u0430\\u044f', u'uid': 85447656}, {u'first_name': u'\\u0410\\u043b\\u0435\\u043a\\u0441\\u0430\\u043d\\u0434\\u0440', u'last_name': u'\\u0414\\u0435\\u043c\\u0438\\u043d\\u0441\\u043a\\u0438\\u0439', u'uid': 93742211}, {u'first_name': u'\\u0415\\u043b\\u0435\\u043d\\u0430', u'last_name': u'\\u0413\\u0440\\u0438\\u0446\\u043a\\u0435\\u0432\\u0438\\u0447', u'uid': 150258054}, {u'first_name': u'\\u0412\\u0430\\u043b\\u0435\\u043d\\u0442\\u0438\\u043d\\u0430', u'last_name': u'\\u0423\\u0434\\u0430\\u043b\\u044c\\u0446\\u043e\\u0432\\u0430', u'uid': 151451608}, {u'deactivated': u'deleted', u'first_name': u'\\u0414\\u0435\\u043d\\u0438\\u0441', u'last_name': u'\\u041f\\u0430\\u043d\\u043a\\u043e\\u0432', u'uid': 229078041}, {u'personal': {u'people_main': 5, u'inspired_by': u'\\u0436\\u0438\\u0437\\u043d\\u0435\\u043d\\u043d\\u0430\\u044f  \\u0446\\u0435\\u043b\\u044c'}, u'first_name': u'\\u0422\\u0443\\u0440\\u0430\\u043d', u'last_name': u'\\u0413\\u0443\\u0441\\u0435\\u0439\\u043d\\u043e\\u0432', u'uid': 236213391}, {u'personal': {u'people_main': 6, u'religion': u'\\u041f\\u0440\\u0430\\u0432\\u043e\\u0441\\u043b\\u0430\\u0432\\u0438\\u0435', u'life_main': 1, u'alcohol': 2, u'smoking': 2}, u'first_name': u'\\u0415\\u043a\\u0430\\u0442\\u0435\\u0440\\u0438\\u043d\\u0430', u'last_name': u'\\u042e\\u0441\\u0443\\u043f\\u043e\\u0432\\u0430', u'uid': 260029029}, {u'first_name': u'\\u041b\\u0430\\u043a\\u0438', u'last_name': u'\\u041b\\u0443\\u0447\\u0430\\u043d\\u043e', u'uid': 260593232}, {u'personal': [], u'first_name': u'\\u0413\\u0438\\u0431\\u0434\\u0434-\\u041f\\u0435\\u0442\\u0440\\u043e\\u0433\\u0440\\u0430\\u0434\\u0441\\u043a\\u043e\\u0433\\u043e-\\u0420\\u0430\\u0439\\u043e\\u043d\\u0430', u'last_name': u'\\u0413-\\u0421\\u0430\\u043d\\u043a\\u0442-\\u041f\\u0435\\u0442\\u0435\\u0440\\u0431\\u0443\\u0440\\u0433', u'uid': 338659768}, {u'first_name': u'\\u0414\\u0435\\u043d\\u0438\\u0441', u'last_name': u'\\u0428\\u043b\\u044f\\u043f\\u043d\\u0438\\u043a\\u043e\\u0432', u'uid': 250928}, {u'first_name': u'\\u0414\\u043c\\u0438\\u0442\\u0440\\u0438\\u0439', u'last_name': u'\\u0421\\u0435\\u043c\\u0451\\u043d\\u043e\\u0432', u'uid': 262776}, {u'first_name': u'\\u0423\\u0441\\u0442\\u0438\\u043d\\u043e\\u0432\\u0438\\u0447', u'last_name': u'\\u0412\\u0438\\u043a\\u0442\\u043e\\u0440', u'uid': 320050}, {u'personal': {u'people_main': 2, u'religion': u'\\u041f\\u0440\\u0430\\u0432\\u043e\\u0441\\u043b\\u0430\\u0432\\u0438\\u0435', u'political': 3, u'alcohol': 2, u'smoking': 4}, u'first_name': u'\\u0414\\u0435\\u043d\\u0438\\u0441', u'last_name': u'\\u041f\\u043b\\u0430\\u0442\\u043e\\u043d\\u043e\\u0432', u'uid': 346796}, {u'first_name': u'\\u041c\\u0430\\u043a\\u0441\\u0438\\u043c', u'last_name': u'\\u0411\\u0430\\u043b\\u044b\\u0431\\u0435\\u0440\\u0434\\u0438\\u043d', u'uid': 356460}, {u'first_name': u'\\u041c\\u0430\\u043a\\u0441\\u0438\\u043c', u'last_name': u'\\u0411\\u0443\\u0434\\u0430\\u0448\\u043a\\u0438\\u043d', u'uid': 370062}, {u'first_name': u'\\u0415\\u0432\\u0433\\u0435\\u043d\\u0438\\u0439', u'last_name': u'\\u0410\\u043d\\u0444\\u0438\\u043c\\u043e\\u0432', u'uid': 387752}, {u'personal': {u'political': 3}, u'first_name': u'\\u041b\\u0435\\u043e\\u043d\\u0438\\u0434', u'last_name': u'\\u0411\\u0430\\u043b\\u0430\\u043a\\u0438\\u043d', u'uid': 420096}, {u'first_name': u'\\u042e\\u0440\\u0438\\u0439', u'last_name': u'\\u0421\\u043c\\u0438\\u0440\\u043d\\u043e\\u0432', u'uid': 424017}, {u'first_name': u'\\u0410\\u043b\\u0435\\u043a\\u0441\\u0430\\u043d\\u0434\\u0440', u'last_name': u'\\u0421\\u043e\\u043b\\u043e\\u0432\\u044c\\u0451\\u0432', u'uid': 470767}, {u'first_name': u'\\u0418\\u0432\\u0430\\u043d', u'last_name': u'\\u0417\\u0438\\u043d\\u043e\\u0432\\u044c\\u0435\\u0432', u'uid': 473990}, {u'first_name': u'\\u042f\\u043d\\u0430', u'last_name': u'\\u041f\\u0440\\u0430\\u0439\\u0441', u'uid': 488082}, {u'first_name': u'\\u0412\\u043b\\u0430\\u0434\\u0438\\u043c\\u0438\\u0440', u'last_name': u'\\u041a\\u043e\\u0437\\u043b\\u043e\\u0432', u'uid': 497414}, {u'first_name': u'\\u0421\\u0435\\u0440\\u0433\\u0435\\u0439', u'last_name': u'\\u0412\\u043e\\u043b\\u043e\\u0434\\u0447\\u0435\\u043d\\u043a\\u043e', u'uid': 507644}, {u'first_name': u'\\u0418\\u0433\\u043e\\u0440\\u044f\\u043d', u'last_name': u'\\u041e\\u0434\\u0430\\u0440\\u0447\\u0443\\u043a', u'uid': 536752}, {u'first_name': u'\\u0410\\u043d\\u0442\\u043e\\u0445\\u0430', u'last_name': u'\\u0410\\u0433\\u0440\\u044b\\u0437\\u043a\\u043e\\u0432', u'uid': 552443}, {u'first_name': u'\\u041a\\u0441\\u044e\\u0448\\u043a\\u0430', u'last_name': u'\\u0412\\u043e\\u0440\\u043e\\u043d\\u043e\\u0432\\u0430', u'uid': 561348}, {u'deactivated': u'deleted', u'first_name': u'\\u0421\\u0435\\u0440\\u0433\\u0435\\u0439', u'last_name': u'\\u041c\\u0430\\u043b\\u044f\\u043d\\u043e\\u0432', u'uid': 588834}, {u'personal': {u'langs': [u'\\u0420\\u0443\\u0441\\u0441\\u043a\\u0438\\u0439', u'English']}, u'first_name': u'\\u0410\\u043b\\u0435\\u043a\\u0441\\u0430\\u043d\\u0434\\u0440', u'last_name': u'\\u0420\\u0443\\u043c\\u044f\\u043d\\u0446\\u0435\\u0432', u'uid': 648884}, {u'first_name': u'\\u0422\\u0430\\u0442\\u044c\\u044f\\u043d\\u0430', u'last_name': u'\\u0421\\u0442\\u0430\\u0440\\u043e\\u0441\\u0442\\u0438\\u043d\\u0430', u'uid': 660481}, {u'first_name': u'\\u0415\\u0432\\u0433\\u0435\\u043d\\u0438\\u0439', u'last_name': u'\\u0428\\u0430\\u0440\\u0430\\u043f\\u043a\\u043e\\u0432', u'uid': 719561}, {u'first_name': u'\\u0420\\u043e\\u043c\\u0430\\u043d', u'last_name': u'\\u041f\\u0430\\u043d\\u0447\\u0435\\u0432', u'uid': 816288}, {u'first_name': u'\\u0421\\u0435\\u0440\\u0435\\u0433\\u0430', u'last_name': u'\\u0421\\u0438\\u043d\\u0451\\u0432', u'uid': 836350}, {u'first_name': u'\\u0420\\u0443\\u0441\\u043b\\u0430\\u043d', u'last_name': u'\\u0410\\u043b\\u0445\\u0430\\u0441\\u043e\\u0432', u'uid': 848443}, {u'first_name': u'\\u041d\\u0438\\u043d\\u0430', u'last_name': u'\\u0414\\u0440\\u0443\\u0433\\u0430\\u043d\\u043e\\u0432\\u0430', u'uid': 882790}, {u'first_name': u'\\u0410\\u043b\\u0435\\u043a\\u0441\\u0430\\u043d\\u0434\\u0440', u'last_name': u'\\u041d\\u0435\\u0441\\u0442\\u0435\\u0440\\u043e\\u0432\\u0441\\u043a\\u0438\\u0439', u'uid': 890346}, {u'personal': {u'people_main': 5, u'religion': u'\\u041d\\u0438\\u043a\\u0442\\u043e \\u043d\\u0435 \\u043e\\u0431\\u044f\\u0437\\u0430\\u043d \\u0441\\u043e\\u043e\\u0431\\u0449\\u0430\\u0442\\u044c \\u043e \\u0441\\u0432\\u043e\\u0435\\u043c \\u043e\\u0442\\u043d\\u043e\\u0448\\u0435\\u043d\\u0438\\u0438 \\u043a \\u0440\\u0435\\u043b\\u0438\\u0433\\u0438\\u0438...(\\u0447.5 \\u0441\\u0442.3 \\u0424\\u0417 \\u043e\\u0442 26.09.97 \\u0433. N 125-\\u0424)', u'life_main': 1}, u'first_name': u'\\u0410\\u043b\\u0451\\u043d\\u0430', u'last_name': u'\\u041a\\u0440\\u0435\\u0449\\u0451\\u043d\\u043e\\u0432\\u0430', u'uid': 999176}, {u'first_name': u'\\u0418\\u0433\\u043e\\u0440\\u044c', u'last_name': u'\\u0411\\u0435\\u043b\\u043e\\u0432', u'uid': 1009712}, {u'first_name': u'\\u0414\\u0435\\u043d\\u0438\\u0441', u'last_name': u'\\u0412\\u043e\\u0440\\u043e\\u043d\\u043e\\u0432', u'uid': 1018533}, {u'first_name': u'\\u042e\\u0440\\u0438\\u0439', u'last_name': u'\\u0422\\u043e\\u043a\\u0438\\u043d', u'uid': 1119907}, {u'first_name': u'\\u0410\\u043b\\u0435\\u043a\\u0441\\u0430\\u043d\\u0434\\u0440', u'last_name': u'\\u0425\\u043e\\u0440\\u044c\\u043a\\u043e\\u0432', u'uid': 1224010}, {u'deactivated': u'deleted', u'first_name': u'\\u0410\\u043d\\u0434\\u0440\\u0435\\u0439', u'last_name': u'\\u041f\\u043e\\u043f\\u0440\\u0438\\u0435\\u043d\\u043a\\u043e', u'uid': 1287397}, {u'first_name': u'\\u0414\\u043c\\u0438\\u0442\\u0440\\u0438\\u0439', u'last_name': u'\\u0418\\u0432\\u0430\\u043d\\u043e\\u0432', u'uid': 1296297}, {u'first_name': u'\\u0410\\u043b\\u0435\\u043a\\u0441\\u0430\\u043d\\u0434\\u0440', u'last_name': u'\\u0411\\u043e\\u043b\\u044c\\u0448\\u043e\\u0439', u'uid': 1326804}, {u'first_name': u'\\u0412\\u0430\\u043b\\u0435\\u0440\\u0430', u'last_name': u'\\u0428\\u0438\\u043b\\u043e\\u0432', u'uid': 1328109}, {u'personal': [], u'first_name': u'\\u0421\\u0432\\u0435\\u0442\\u043b\\u0430\\u043d\\u0430', u'last_name': u'\\u0421\\u0438\\u0437\\u043e\\u0432\\u0430', u'uid': 1330798}, {u'first_name': u'\\u0414\\u0438\\u043c\\u0430', u'last_name': u'\\u0422\\u043e\\u043c\\u0430\\u0448\\u0443\\u043d\\u0430\\u0441', u'uid': 1334270}, {u'personal': [], u'first_name': u'\\u041c\\u0430\\u043a\\u0441\\u0438\\u043c', u'last_name': u'\\u0413\\u0443\\u043b\\u044f\\u0435\\u0432', u'uid': 1336041}, {u'first_name': u'\\u0421\\u0432\\u0435\\u0442\\u043b\\u0430\\u043d\\u0430', u'last_name': u'\\u0428\\u043e\\u043b\\u043e\\u043c\\u043e\\u043d-\\u0414\\u043e\\u043c\\u0431\\u0440\\u043e\\u0432\\u0441\\u043a\\u0430\\u044f', u'uid': 1407387}, {u'first_name': u'\\u041d\\u0430\\u0434\\u0435\\u0436\\u0434\\u0430', u'last_name': u'\\u041a\\u043e\\u043a\\u043e\\u0440\\u0438\\u043d\\u0430', u'uid': 1464609}, {u'first_name': u'\\u0414\\u0435\\u043d\\u0438\\u0441', u'last_name': u'\\u041c\\u043e\\u043b\\u0447\\u0430\\u043d\\u043e\\u0432', u'uid': 1498185}, {u'first_name': u'\\u0418\\u0432\\u0430\\u043d', u'last_name': u'\\u0414\\u0443\\u0431\\u0438\\u043d\\u0438\\u043d', u'uid': 1520708}, {u'first_name': u'\\u0415\\u0432\\u0433\\u0435\\u043d\\u0438\\u0439', u'last_name': u'\\u0410\\u043d\\u0434\\u0440\\u0435\\u0435\\u0432', u'uid': 1536058}, {u'first_name': u'\\u0421\\u0442\\u0430\\u0446', u'last_name': u'\\u041e\\u043d\\u043e\\u0432', u'uid': 1590958}, {u'first_name': u'\\u0414\\u0430\\u0440\\u044c\\u044f', u'last_name': u'\\u041f\\u0430\\u043d\\u043e\\u0432\\u0430', u'uid': 1645900}, {u'first_name': u'\\u041c\\u0438\\u0445\\u0430\\u0438\\u043b', u'last_name': u'\\u0418\\u0433\\u043e\\u0440\\u0435\\u0432\\u0438\\u0447', u'uid': 1709152}, {u'first_name': u'\\u042e\\u043b\\u0438\\u044f', u'last_name': u'\\u0418\\u0437\\u043e\\u0442\\u043e\\u0432\\u0430', u'uid': 1712904}, {u'first_name': u'\\u0412\\u043b\\u0430\\u0434\\u0438\\u043c\\u0438\\u0440', u'last_name': u'\\u0410\\u043d\\u043a\\u0443\\u0448\\u0435\\u0432', u'uid': 1718367}, {u'first_name': u'\\u0410\\u043b\\u0435\\u043a\\u0441\\u0435\\u0439', u'last_name': u'\\u0412\\u043e\\u0440\\u043e\\u0431\\u044c\\u0435\\u0432', u'uid': 1763068}, {u'personal': [], u'first_name': u'\\u0412\\u0435\\u0440\\u0430', u'last_name': u'\\u0412\\u0430\\u0436\\u0435\\u043d\\u0438\\u043d\\u0430', u'uid': 1828490}, {u'first_name': u'\\u0415\\u0432\\u0433\\u0435\\u043d\\u0438\\u0439', u'last_name': u'\\u042e\\u0440\\u0447\\u0435\\u043d\\u043a\\u043e', u'uid': 1953491}, {u'first_name': u'\\u041c\\u0430\\u043a\\u0441\\u0438\\u043c', u'last_name': u'\\u041c\\u0430\\u043d\\u044f\\u0445\\u0438\\u043d', u'uid': 2000900}, {u'first_name': u'\\u0410\\u043b\\u0435\\u043a\\u0441\\u0435\\u0439', u'last_name': u'\\u0421\\u043c\\u0438\\u0440\\u043d\\u043e\\u0432', u'uid': 2142513}, {u'first_name': u'\\u041e\\u043b\\u0435\\u0441\\u044f', u'last_name': u'\\u041a\\u043e\\u043d\\u0434\\u0440\\u0430\\u0442\\u044c\\u0435\\u0432\\u0430', u'uid': 2159750}, {u'first_name': u'\\u041a\\u0438\\u0440\\u0438\\u043b\\u043b', u'last_name': u'\\u0413\\u0440\\u043e\\u043c\\u044b\\u043a\\u043e', u'uid': 2239003}, {u'deactivated': u'deleted', u'first_name': u'\\u041f\\u0430\\u0432\\u0435\\u043b', u'last_name': u'\\u0421\\u0438\\u0432\\u0430\\u0448\\u043e\\u0432', u'uid': 2268751}, {u'first_name': u'\\u0421\\u0435\\u0440\\u0433\\u0435\\u0439', u'last_name': u'\\u0414\\u0435\\u043d\\u0438\\u0441\\u0435\\u043d\\u044f', u'uid': 2268783}, {u'personal': [], u'first_name': u'\\u0410\\u043b\\u0435\\u043a\\u0441\\u0435\\u0439', u'last_name': u'\\u0418\\u043b\\u044c\\u0438\\u043d', u'uid': 2307922}, {u'first_name': u'\\u0410\\u043d\\u0442\\u043e\\u043d', u'last_name': u'\\u0411\\u0440\\u0430\\u0443\\u043d', u'uid': 2330893}, {u'first_name': u'\\u0418\\u0440\\u0438\\u043d\\u0430', u'last_name': u'\\u0417\\u0438\\u043d\\u043e\\u0432\\u044c\\u0435\\u0432\\u0430', u'uid': 2337461}, {u'first_name': u'\\u0410\\u043d\\u0442\\u043e\\u043d', u'last_name': u'\\u041f\\u0430\\u0442\\u0440\\u0430\\u043a\\u0435\\u0435\\u0432', u'uid': 2394299}, {u'first_name': u'\\u042e\\u0440\\u0438\\u0439', u'last_name': u'\\u0410\\u0433\\u0435\\u0435\\u0432', u'uid': 2439743}, {u'first_name': u'\\u042e\\u043b\\u0438\\u044f', u'last_name': u'\\u0415\\u0440\\u043c\\u0430\\u043a\\u043e\\u0432\\u0430-\\u041d\\u0430\\u0437\\u0430\\u0440\\u043e\\u0432\\u0430', u'uid': 2495540}, {u'first_name': u'\\u0410\\u043b\\u0435\\u043a\\u0441\\u0430\\u043d\\u0434\\u0440', u'last_name': u'\\u041a\\u0430\\u0440\\u0434\\u0430\\u0448', u'uid': 2506915}, {u'first_name': u'\\u041f\\u0430\\u0432\\u0435\\u043b', u'last_name': u'\\u0410\\u043d\\u0434\\u0440\\u0435\\u0435\\u0432\\u0438\\u0447', u'uid': 2650612}, {u'first_name': u'\\u041b\\u0435\\u0432', u'last_name': u'\\u0414\\u0438\\u044f\\u043d\\u043e\\u0432', u'uid': 2661395}, {u'first_name': u'\\u0421\\u0435\\u0440\\u0433\\u0435\\u0439', u'last_name': u'\\u041a\\u0440\\u044b\\u043b\\u043e\\u0432', u'uid': 2692509}, {u'first_name': u'\\u0414\\u0430\\u0448\\u0430', u'last_name': u'\\u0422\\u0430\\u0440\\u0430\\u0441\\u043e\\u0432\\u0430', u'uid': 2740657}, {u'first_name': u'Alexander', u'last_name': u'Andrienko', u'uid': 2779688}, {u'first_name': u'\\u0414\\u0438\\u043c\\u0430', u'last_name': u'\\u041b\\u043e\\u0433\\u0443\\u043d\\u043e\\u0432', u'uid': 2830281}, {u'first_name': u'\\u0412\\u043e\\u0432\\u0430\\u043d', u'last_name': u'\\u041a\\u0443\\u0446\\u044b\\u0439', u'uid': 2961413}, {u'personal': {u'people_main': 2, u'alcohol': 1, u'inspired_by': u'\\u043c\\u0443\\u0437\\u044b\\u043a\\u0430 \\u0438 \\u043b\\u044e\\u0431\\u0438\\u043c\\u0430\\u044f \\u0436\\u0435\\u043d\\u0449\\u0438\\u043d\\u0430', u'religion': u'\\u043f\\u0440\\u0430\\u0432\\u043e\\u0441\\u043b\\u0430\\u0432\\u044b\\u0439', u'smoking': 1, u'life_main': 4}, u'first_name': u'\\u041d\\u0438\\u043a\\u043e\\u043b\\u0430\\u0439', u'last_name': u'\\u041d\\u0438\\u043a\\u043e\\u043b\\u0430\\u0435\\u0432', u'uid': 2971497}, {u'deactivated': u'deleted', u'first_name': u'\\u041d\\u0438\\u043a\\u0438\\u0442\\u0430', u'last_name': u'\\u042f\\u043a\\u043e\\u0432\\u043b\\u0435\\u0432', u'uid': 3081174}]\n"
     ]
    }
   ],
   "source": [
    "import json\n",
    "\n",
    "#    for user in users: \n",
    "#        print(user.get('personal', \"\"))\n",
    "\n",
    "uids = []        \n",
    "\n",
    "#for i in range(0,20):\n",
    "#    vyborka.append(users[i].get('uid', \"\"))\n",
    "for user in users:\n",
    "    uids.append(user.get('uid', \"\"))\n",
    "\n",
    "part = uids[:100]\n",
    "    \n",
    "#print(uids)\n",
    "#print(vyborka)\n",
    "pers = []\n",
    "params = {\"user_ids\": part, \n",
    "          \"fields\": \"personal\",\n",
    "          \"access_token\": accessToken}\n",
    "params = urlencode(params)\n",
    "\n",
    "url = \"https://api.vk.com/method/users.get?\" + params\n",
    "data = json.load(urllib2.urlopen(url))\n",
    "pers_data_array = data['response']\n",
    "\n",
    "print(pers_data_array)\n",
    "\n",
    "with open('data_personal.json', 'w') as outfile:\n",
    "    json.dump(pers_data_array, outfile)\n",
    "    \n",
    "\n",
    "    "
   ]
  },
  {
   "cell_type": "markdown",
   "metadata": {
    "collapsed": true
   },
   "source": [
    "# Построим графиченьки по перс информации"
   ]
  },
  {
   "cell_type": "code",
   "execution_count": 16,
   "metadata": {
    "collapsed": true
   },
   "outputs": [],
   "source": [
    "import numpy as np\n",
    "import pandas as pd\n",
    "import matplotlib\n",
    "from collections import defaultdict\n",
    "from matplotlib import pyplot as plt"
   ]
  },
  {
   "cell_type": "code",
   "execution_count": null,
   "metadata": {
    "collapsed": true
   },
   "outputs": [],
   "source": []
  },
  {
   "cell_type": "code",
   "execution_count": null,
   "metadata": {
    "collapsed": true
   },
   "outputs": [],
   "source": []
  },
  {
   "cell_type": "code",
   "execution_count": null,
   "metadata": {
    "collapsed": true
   },
   "outputs": [],
   "source": []
  },
  {
   "cell_type": "code",
   "execution_count": null,
   "metadata": {
    "collapsed": true
   },
   "outputs": [],
   "source": []
  }
 ],
 "metadata": {
  "kernelspec": {
   "display_name": "Python 2",
   "language": "python",
   "name": "python2"
  },
  "language_info": {
   "codemirror_mode": {
    "name": "ipython",
    "version": 2
   },
   "file_extension": ".py",
   "mimetype": "text/x-python",
   "name": "python",
   "nbconvert_exporter": "python",
   "pygments_lexer": "ipython2",
   "version": "2.7.11"
  }
 },
 "nbformat": 4,
 "nbformat_minor": 0
}
