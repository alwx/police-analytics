{
 "cells": [
  {
   "cell_type": "code",
   "execution_count": 22,
   "metadata": {
    "collapsed": false
   },
   "outputs": [],
   "source": [
    "import json\n",
    "import urllib2 \n",
    "from urllib import urlencode\n",
    "from collections import Counter\n",
    "\n",
    "file = open('datasets/token', 'r')\n",
    "accessToken = file.read()"
   ]
  },
  {
   "cell_type": "code",
   "execution_count": 5,
   "metadata": {
    "collapsed": false
   },
   "outputs": [],
   "source": [
    "with open('datasets/policeGroups/users.json') as f:\n",
    "    users = json.loads(f.read())"
   ]
  },
  {
   "cell_type": "code",
   "execution_count": 8,
   "metadata": {
    "collapsed": false
   },
   "outputs": [],
   "source": [
    "def chunker(lst, chunk_len):\n",
    "    from_, to = 0, chunk_len\n",
    "    while from_ < len(lst):\n",
    "        yield lst[from_:to]\n",
    "        from_ = to\n",
    "        to += chunk_len"
   ]
  },
  {
   "cell_type": "code",
   "execution_count": 33,
   "metadata": {
    "collapsed": false
   },
   "outputs": [
    {
     "name": "stdout",
     "output_type": "stream",
     "text": [
      "fetched chunk 1/6\n",
      "fetched chunk 2/6\n",
      "fetched chunk 3/6\n",
      "fetched chunk 4/6\n",
      "fetched chunk 5/6\n",
      "fetched chunk 6/6\n",
      "fetched chunk 7/6\n"
     ]
    }
   ],
   "source": [
    "all_interests_data = []\n",
    "chunk_size = 250\n",
    "\n",
    "for i, user_chunk in enumerate(chunker(users, chunk_size)):\n",
    "    user_ids = [u['uid'] for u in user_chunk]\n",
    "    params = {\"user_ids\": user_ids, \n",
    "              # NOTE(si14): not enough data to analyse books/tv/movies/...\n",
    "              # \"fields\": \"personal,books,tv,movies,activities,interests\",\n",
    "              \"fields\": \"personal\",\n",
    "              \"access_token\": accessToken}\n",
    "    params_str = urlencode(params)\n",
    "\n",
    "    url = \"https://api.vk.com/method/users.get?\" + params_str\n",
    "    data = json.load(urllib2.urlopen(url))\n",
    "    resp = data['response']\n",
    "    \n",
    "    all_interests_data += resp\n",
    "    print \"fetched chunk {}/{}\".format(i+1, len(users) / chunk_size)\n",
    "    "
   ]
  },
  {
   "cell_type": "code",
   "execution_count": 35,
   "metadata": {
    "collapsed": false
   },
   "outputs": [],
   "source": [
    "with open('datasets/policeGroups/all_interests_data.json', 'wb') as f:\n",
    "    f.write(json.dumps(all_interests_data))"
   ]
  },
  {
   "cell_type": "code",
   "execution_count": 37,
   "metadata": {
    "collapsed": false
   },
   "outputs": [
    {
     "name": "stdout",
     "output_type": "stream",
     "text": [
      "religion\n",
      "   n/a: 45\n",
      "   Православие: 45\n",
      "   православный: 3\n",
      "   верю: 2\n",
      "   православие: 2\n",
      "   присутствуют: 1\n",
      "   Nothingdoing: 1\n",
      "   Ислам: 1\n",
      "   Никто не обязан сообщать о своем отношении к религии (ч.5 ст.3 ФЗ от 26.09.97 г. N 125-ФЗ): 1\n",
      "   православные: 1\n",
      "   Верю: 1\n",
      "   Атеист: 1\n",
      "   Будда укажет мне путь истины, Аллах направит мои стопы, а Иисус меня простит: 1\n",
      "   Все думающие люди — атеисты. (Э.Хеммингуей): 1\n",
      "   Омон: 1\n",
      "   Католицизм: 1\n",
      "   У каждого свой Бог в душе.: 1\n",
      "   бог един: 1\n",
      "   Светский гуманизм: 1\n",
      "   Бог есть: 1\n",
      "   Хрестианин: 1\n",
      "   jedi knight: 1\n",
      "   Я верю в Любовь,Веру,Надежду и конечно же в дружбу!: 1\n",
      "   Религия-опиум для народа!: 1\n",
      "   Духовность: 1\n",
      "   Верю в себя: 1\n",
      "   I am the GoD.....: 1\n",
      "   в религиозных предпочтениях не определился: 1\n",
      "   Христианские: 1\n",
      "   Православное крыло Буддизма: 1\n",
      "   Верующий: 1\n",
      "   Бог использует то, что тянет нас назад, чтобы вести нас вперед: 1\n",
      "   христианство: 1\n",
      "   Готические: 1\n",
      "   Бога нет. Есть вера в Бога. Она и творит чудеса...: 1\n",
      "   православный захожанин: 1\n",
      "   СОЧУВСТВУЮЩИЙ: 1\n",
      "   Наверное там кто-нибудь есть...: 1\n",
      "   Пастафарианство: 1\n",
      "   православый: 1\n",
      "   Верю--: 1\n",
      "   буддистка: 1\n",
      "   Христианство: 1\n",
      "   Отсутствуют: 1\n",
      "   частица Чёрта в нас заключена под час...: 1\n",
      "   Мне ваще паралельно есть там кто или нет!я сам строю свою судьбу!!!: 1\n",
      "   Никто не обязан сообщать о своем отношении к религии...(ч.5 ст.3 ФЗ от 26.09.97 г. N 125-Ф): 1\n",
      "   Православие,верю в свои силы.: 1\n",
      "   Люблю крошку Иисуса: 1\n",
      "   объективный рациональный реализм: 1\n",
      "   рпц: 1\n",
      "   Верю в себя и в бога: 1\n",
      "   Никто не обязан сообщать о своем отношении к религии (ч.5 ст.3 ФЗ от 26.09.97 г. N 125-Ф): 1\n",
      "political\n",
      "   n/a: 193\n",
      "   умеренные: 59\n",
      "   индифферентные: 15\n",
      "   монархические: 12\n",
      "   либеральные: 8\n",
      "   коммунистические: 5\n",
      "   социалистические: 5\n",
      "   консервативные: 4\n",
      "   ультраконсервативные: 4\n",
      "   либертарианские: 1\n",
      "alcohol\n",
      "   негативное: 15\n",
      "   нейтральное: 11\n",
      "   резко негативное: 9\n",
      "   компромиссное: 9\n",
      "   положительное: 5\n",
      "   n/a: 5\n",
      "smoking\n",
      "   n/a: 34\n",
      "   негативное: 18\n",
      "   резко негативное: 13\n",
      "   компромиссное: 10\n",
      "   нейтральное: 5\n",
      "   положительное: 3\n"
     ]
    }
   ],
   "source": [
    "counter_keys = ['religion', 'alcohol', 'smoking', 'political']\n",
    "counters = {key: Counter() for key in counter_keys}\n",
    "\n",
    "int_to_str_mappings = {\n",
    "    'alcohol': {1: u\"резко негативное\",\n",
    "                2: u\"негативное\",\n",
    "                3: u\"нейтральное\",\n",
    "                4: u\"компромиссное\",\n",
    "                5: u\"положительное\",\n",
    "                'n/a': 'n/a'},\n",
    "    'smoking': {1: u\"резко негативное\",\n",
    "                2: u\"негативное\",\n",
    "                3: u\"нейтральное\",\n",
    "                4: u\"компромиссное\",\n",
    "                5: u\"положительное\",\n",
    "                'n/a': 'n/a'},\n",
    "    'political': {1: u\"коммунистические\",\n",
    "                  2: u\"социалистические\",\n",
    "                  3: u\"умеренные\",\n",
    "                  4: u\"либеральные\",\n",
    "                  5: u\"консервативные\",\n",
    "                  6: u\"монархические\",\n",
    "                  7: u\"ультраконсервативные\",\n",
    "                  8: u\"индифферентные\",\n",
    "                  9: u\"либертарианские\",\n",
    "                  'n/a': 'n/a'}}\n",
    "\n",
    "n = 0\n",
    "for user in all_interests_data:\n",
    "    n += 1\n",
    "    if not ('personal' in user and isinstance(user['personal'], dict)):\n",
    "        continue\n",
    "    personal = user['personal']\n",
    "    for key in counters.keys():\n",
    "        if key in personal:\n",
    "            counter = counters[key]\n",
    "            counter[personal[key]] += 1\n",
    "        else:\n",
    "            counter['n/a'] += 1\n",
    "\n",
    "for key, counter in counters.items():\n",
    "    print key\n",
    "    for subkey, n in counter.most_common():\n",
    "        if key in int_to_str_mappings:\n",
    "            subkey = int_to_str_mappings[key][subkey]\n",
    "        print \"   {}: {}\".format(subkey.encode('utf8'), n)"
   ]
  }
 ],
 "metadata": {
  "kernelspec": {
   "display_name": "Python 2",
   "language": "python",
   "name": "python2"
  },
  "language_info": {
   "codemirror_mode": {
    "name": "ipython",
    "version": 2
   },
   "file_extension": ".py",
   "mimetype": "text/x-python",
   "name": "python",
   "nbconvert_exporter": "python",
   "pygments_lexer": "ipython2",
   "version": "2.7.11"
  }
 },
 "nbformat": 4,
 "nbformat_minor": 0
}
